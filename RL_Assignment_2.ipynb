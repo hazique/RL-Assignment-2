{
  "cells": [
    {
      "cell_type": "markdown",
      "metadata": {
        "id": "0K7LJRx4QBv6"
      },
      "source": [
        "AI statement:\n",
        "\"I certify that the code and data in this assignment were generated independently, using only the tools\n",
        "and resources defined in the course and that I did not receive any external help, coaching, or contributions\n",
        "during the production of this work.\""
      ]
    },
    {
      "cell_type": "markdown",
      "metadata": {
        "id": "_vYSnWaCQBv9"
      },
      "source": [
        "### Part I: Exploring Gym Environment"
      ]
    },
    {
      "cell_type": "markdown",
      "metadata": {
        "id": "HmtgbWohzhMw"
      },
      "source": [
        "#### Cartpole-v1"
      ]
    },
    {
      "cell_type": "code",
      "source": [
        "!apt-get install x11-utils > /dev/null 2>&1 \n",
        "!pip install pyglet > /dev/null 2>&1 \n",
        "!apt-get install -y xvfb python-opengl > /dev/null 2>&1\n",
        "!apt-get install -y xvfb x11-utils"
      ],
      "metadata": {
        "colab": {
          "base_uri": "https://localhost:8080/"
        },
        "id": "TYnKnyhgkWif",
        "outputId": "d500531a-c9a3-4fd3-b4be-acaf8f7c4db9"
      },
      "execution_count": 1,
      "outputs": [
        {
          "output_type": "stream",
          "name": "stdout",
          "text": [
            "Reading package lists... Done\n",
            "Building dependency tree       \n",
            "Reading state information... Done\n",
            "x11-utils is already the newest version (7.7+3build1).\n",
            "xvfb is already the newest version (2:1.19.6-1ubuntu4.10).\n",
            "0 upgraded, 0 newly installed, 0 to remove and 39 not upgraded.\n"
          ]
        }
      ]
    },
    {
      "cell_type": "code",
      "execution_count": 2,
      "metadata": {
        "colab": {
          "base_uri": "https://localhost:8080/"
        },
        "id": "DSNjECbtpbzA",
        "outputId": "1625bd6c-e7bd-4808-e4fe-ed74bcc6df84"
      },
      "outputs": [
        {
          "output_type": "stream",
          "name": "stdout",
          "text": [
            "Requirement already satisfied: PyOpenGL==3.1.* in /usr/local/lib/python3.7/dist-packages (3.1.6)\n",
            "Requirement already satisfied: PyOpenGL-accelerate==3.1.* in /usr/local/lib/python3.7/dist-packages (3.1.5)\n",
            "Requirement already satisfied: gym in /usr/local/lib/python3.7/dist-packages (0.17.3)\n",
            "Requirement already satisfied: numpy>=1.10.4 in /usr/local/lib/python3.7/dist-packages (from gym) (1.21.5)\n",
            "Requirement already satisfied: pyglet<=1.5.0,>=1.4.0 in /usr/local/lib/python3.7/dist-packages (from gym) (1.5.0)\n",
            "Requirement already satisfied: scipy in /usr/local/lib/python3.7/dist-packages (from gym) (1.4.1)\n",
            "Requirement already satisfied: cloudpickle<1.7.0,>=1.2.0 in /usr/local/lib/python3.7/dist-packages (from gym) (1.3.0)\n",
            "Requirement already satisfied: future in /usr/local/lib/python3.7/dist-packages (from pyglet<=1.5.0,>=1.4.0->gym) (0.16.0)\n",
            "Requirement already satisfied: pyvirtualdisplay in /usr/local/lib/python3.7/dist-packages (3.0)\n",
            "Requirement already satisfied: box2d in /usr/local/lib/python3.7/dist-packages (2.3.10)\n",
            "Requirement already satisfied: pygame in /usr/local/lib/python3.7/dist-packages (2.1.2)\n"
          ]
        }
      ],
      "source": [
        "!pip install PyOpenGL==3.1.* PyOpenGL-accelerate==3.1.*\n",
        "!pip install gym\n",
        "!python -m pip install pyvirtualdisplay\n",
        "!pip install box2d\n",
        "!pip install pygame"
      ]
    },
    {
      "cell_type": "code",
      "execution_count": 3,
      "metadata": {
        "id": "aH9_kVcieOEC",
        "outputId": "5d1ad763-efb3-445c-f5f8-c8f7c117f798",
        "colab": {
          "base_uri": "https://localhost:8080/"
        }
      },
      "outputs": [
        {
          "output_type": "stream",
          "name": "stdout",
          "text": [
            "Requirement already satisfied: tqdm in /usr/local/lib/python3.7/dist-packages (4.63.0)\n"
          ]
        }
      ],
      "source": [
        "!pip install tqdm"
      ]
    },
    {
      "cell_type": "code",
      "execution_count": 4,
      "metadata": {
        "id": "BxmV-F5meOED"
      },
      "outputs": [],
      "source": [
        "import matplotlib.pyplot as plt\n",
        "from pyvirtualdisplay import Display\n",
        "import gym\n",
        "import matplotlib.pyplot as plt\n",
        "%matplotlib inline\n",
        "import numpy as np\n",
        "from IPython import display as ipythondisplay\n",
        "\n",
        "import random\n",
        "\n",
        "from tqdm import tqdm, trange\n"
      ]
    },
    {
      "cell_type": "code",
      "execution_count": 5,
      "metadata": {
        "colab": {
          "base_uri": "https://localhost:8080/",
          "height": 269
        },
        "id": "hE80Z60fpeJv",
        "outputId": "6daae3bf-7245-4d6f-e6c7-bf0421178334"
      },
      "outputs": [
        {
          "output_type": "display_data",
          "data": {
            "text/plain": [
              "<Figure size 432x288 with 1 Axes>"
            ],
            "image/png": "[encoded data removed]"
          },
          "metadata": {
            "needs_background": "light"
          }
        }
      ],
      "source": [
        "display = Display(visible=False, size=(400, 300))\n",
        "display.start() \n",
        "\n",
        "is_ipython = 'inline' in plt.get_backend()\n",
        "if is_ipython:\n",
        "    from IPython import display\n",
        "\n",
        "plt.ion()\n",
        "\n",
        "# Load the gym environment\n",
        "\n",
        "\n",
        "env = gym.make('CartPole-v1')\n",
        "\n",
        "# Let's watch how an untrained agent moves around\n",
        "state = env.reset()\n",
        "prev_screen = env.render(mode='rgb_array')\n",
        "plt.imshow(prev_screen)\n",
        "for j in range(100):\n",
        "    action = random.choice(range(2))\n",
        "    screen = env.render(mode='rgb_array')\n",
        "    plt.imshow(screen)\n",
        "    ipythondisplay.display(plt.gcf())\n",
        "    ipythondisplay.clear_output(wait=True)\n",
        "    state, reward, done, _ = env.step(action)\n",
        "    if done:\n",
        "        break \n",
        "\n",
        "ipythondisplay.clear_output(wait=True)        \n",
        "env.close()"
      ]
    },
    {
      "cell_type": "markdown",
      "metadata": {
        "id": "eHMoM5yrizXh"
      },
      "source": [
        "Read Environment Properties"
      ]
    },
    {
      "cell_type": "code",
      "execution_count": 6,
      "metadata": {
        "colab": {
          "base_uri": "https://localhost:8080/"
        },
        "id": "Rp-BGQKpwCEH",
        "outputId": "091a527c-2780-4fd8-d3ba-148f57055e37"
      },
      "outputs": [
        {
          "output_type": "stream",
          "name": "stdout",
          "text": [
            "Discrete(2)\n"
          ]
        }
      ],
      "source": [
        "''' Action Space\n",
        "    The action is a `ndarray` with shape `(1,)` which can take values `{0, 1}` indicating the direction of the fixed force the cart is pushed with.\n",
        "    | Num | Action                 |\n",
        "    |-----|------------------------|\n",
        "    | 0   | Push cart to the left  |\n",
        "    | 1   | Push cart to the right |\n",
        "'''\n",
        "print(env.action_space)"
      ]
    },
    {
      "cell_type": "code",
      "execution_count": 7,
      "metadata": {
        "colab": {
          "base_uri": "https://localhost:8080/"
        },
        "id": "mE5ZHvjFwPFs",
        "outputId": "4add42cf-f6b1-4386-c786-92c9d68c1171"
      },
      "outputs": [
        {
          "output_type": "stream",
          "name": "stdout",
          "text": [
            "Box(-3.4028234663852886e+38, 3.4028234663852886e+38, (4,), float32)\n"
          ]
        }
      ],
      "source": [
        "    ''' Observation Space\n",
        "        The observation is a `ndarray` with shape `(4,)` with the values corresponding to the following positions and velocities:\n",
        "        | Num | Observation           | Min                  | Max                |\n",
        "        |-----|-----------------------|----------------------|--------------------|\n",
        "        | 0   | Cart Position         | -4.8                 | 4.8                |\n",
        "        | 1   | Cart Velocity         | -Inf                 | Inf                |\n",
        "        | 2   | Pole Angle            | ~ -0.418 rad (-24°)  | ~ 0.418 rad (24°)  |\n",
        "        | 3   | Pole Angular Velocity | -Inf                 | Inf                |\n",
        "    '''\n",
        "    print(env.observation_space)"
      ]
    },
    {
      "cell_type": "markdown",
      "metadata": {
        "id": "KL7fimRvxheH"
      },
      "source": [
        "**Rewards**  \n",
        "    Since the goal is to keep the pole upright for as long as possible, a reward of `+1` for every step taken, including the termination step, is allotted. The threshold for rewards is 475 for v1.<br><br>\n",
        "**Starting State**  \n",
        "    All observations are assigned a uniformly random value in `(-0.05, 0.05)`<br><br>\n",
        "**Episode Termination**  \n",
        "    The episode terminates if any one of the following occurs:<br>\n",
        "1.   Pole Angle is greater than ±12°\n",
        "2.   Cart Position is greater than ±2.4 (center of the cart reaches the edge of the display)\n",
        "3.   Episode length is greater than 500 (200 for v0)\n"
      ]
    },
    {
      "cell_type": "markdown",
      "metadata": {
        "id": "XupR2NxFz0TJ"
      },
      "source": [
        "#### MountainCar-v0"
      ]
    },
    {
      "cell_type": "code",
      "execution_count": 8,
      "metadata": {
        "colab": {
          "base_uri": "https://localhost:8080/",
          "height": 269
        },
        "id": "69kU0jr30En5",
        "outputId": "96d699d0-bdef-4167-dcf1-142f0e8e7be9"
      },
      "outputs": [
        {
          "output_type": "display_data",
          "data": {
            "text/plain": [
              "<Figure size 432x288 with 1 Axes>"
            ],
            "image/png": "[encoded data removed]"
          },
          "metadata": {
            "needs_background": "light"
          }
        }
      ],
      "source": [
        "env2 = gym.make('MountainCar-v0')\n",
        "env2.seed(23)\n",
        "env2.reset()\n",
        "\n",
        "# Let's watch how an untrained agent moves around\n",
        "\n",
        "state = env2.reset()\n",
        "prev_screen = env2.render(mode='rgb_array')\n",
        "plt.imshow(prev_screen)\n",
        "for j in range(100):\n",
        "#     action = agent.act(state)\n",
        "    action = random.choice(range(3))\n",
        "    screen = env2.render(mode='rgb_array')\n",
        "    plt.imshow(screen)\n",
        "    ipythondisplay.display(plt.gcf())\n",
        "    ipythondisplay.clear_output(wait=True)\n",
        "    state, reward, done, _ = env2.step(action)\n",
        "    if done:\n",
        "        break \n",
        "        \n",
        "env2.close()"
      ]
    },
    {
      "cell_type": "code",
      "execution_count": 9,
      "metadata": {
        "colab": {
          "base_uri": "https://localhost:8080/"
        },
        "id": "6FbwV5kY0mgI",
        "outputId": "f732155c-8493-4f45-f861-0caa2d04767a"
      },
      "outputs": [
        {
          "output_type": "stream",
          "name": "stdout",
          "text": [
            "Discrete(3)\n"
          ]
        }
      ],
      "source": [
        "''' Action Space\n",
        "    There are 3 discrete deterministic actions:\n",
        "    | Num | Observation                                                 | Value   | Unit |\n",
        "    |-----|-------------------------------------------------------------|---------|------|\n",
        "    | 0   | Accelerate to the left                                      | Inf    | position (m) |\n",
        "    | 1   | Don't accelerate                                            | Inf  | position (m) |\n",
        "    | 2   | Accelerate to the right                                     | Inf    | position (m) |\n",
        "'''\n",
        "print(env2.action_space)"
      ]
    },
    {
      "cell_type": "code",
      "execution_count": 10,
      "metadata": {
        "colab": {
          "base_uri": "https://localhost:8080/"
        },
        "id": "XxE6w8xf10O3",
        "outputId": "e6f0854a-9d9b-4c95-eb0d-7ea8a7ac1dea"
      },
      "outputs": [
        {
          "output_type": "stream",
          "name": "stdout",
          "text": [
            "Box(-1.2000000476837158, 0.6000000238418579, (2,), float32)\n"
          ]
        }
      ],
      "source": [
        "    ''' Observation Space\n",
        "        The observation is a `ndarray` with shape `(2,)` where the elements correspond to the following:\n",
        "        | Num | Observation                                                 | Min                | Max    | Unit |\n",
        "        |-----|-------------------------------------------------------------|--------------------|--------|------|\n",
        "        | 0   | position of the car along the x-axis                        | -Inf               | Inf    | position (m) |\n",
        "        | 1   | velocity of the car                                         | -Inf               | Inf  | position (m) |\n",
        "    '''\n",
        "    print(env2.observation_space)"
      ]
    },
    {
      "cell_type": "markdown",
      "metadata": {
        "id": "glwUddcT2vFg"
      },
      "source": [
        "**Reward**  \n",
        "    The goal is to reach the flag placed on top of the right hill as quickly as possible, as such the agent is penalised with a reward of -1 for each timestep it isn't at the goal and is not penalised (reward = 0) for when it reaches the goal.<br><br>\n",
        "**Starting State**  \n",
        "    The position of the car is assigned a uniform random value in [-0.6 , -0.4]. The starting velocity of the car is always assigned to 0.<br><br>\n",
        "**Episode Termination**  \n",
        "The episode terminates if either of the following happens:\n",
        "1. The position of the car is greater than or equal to 0.5 (the goal position on top of the right hill)\n",
        "2. The length of the episode is 200."
      ]
    },
    {
      "cell_type": "markdown",
      "metadata": {
        "id": "gVIQ5OwW3son"
      },
      "source": [
        "### Part II: Implementing DQN & Solving grid-world environment"
      ]
    },
    {
      "cell_type": "code",
      "execution_count": 11,
      "metadata": {
        "id": "Ts29crCe7Wl-"
      },
      "outputs": [],
      "source": [
        "import gym\n",
        "from gym import spaces\n",
        "import pandas as pd\n",
        "import copy as cp\n",
        "import math\n",
        "import numpy as np\n",
        "import io\n",
        "from base64 import b64decode, b64encode\n",
        "from IPython.core.display import display, HTML"
      ]
    },
    {
      "cell_type": "code",
      "execution_count": 12,
      "metadata": {
        "id": "ZZ5J_ljg6HLr"
      },
      "outputs": [],
      "source": [
        "class GridEnvironment(gym.Env):\n",
        "  metadata = { 'render.modes': []}\n",
        "\n",
        "  def __init__(self, observation_space, action_space, max_timesteps, stochasticity=1):\n",
        "    self.observation_space = spaces.Discrete(observation_space)\n",
        "    self.action_space = spaces.Discrete(action_space)\n",
        "    self.max_timesteps = max_timesteps\n",
        "    self.stochasticity = stochasticity\n",
        "\n",
        "  def set_epsilon(self, epsilon):\n",
        "    self.epsilon = epsilon\n",
        "\n",
        "  def reset(self):\n",
        "    self.timestep = 0\n",
        "    self.agent_pos = [0, 0]\n",
        "    self.goal_pos = [3, 3]\n",
        "    self.state = np.zeros((4, 4))\n",
        "    self.state[tuple(self.agent_pos)] = 1\n",
        "    self.state[tuple(self.goal_pos)] = 0.5\n",
        "    observation = self.state.flatten()\n",
        "    return observation\n",
        "\n",
        "  def step(self, action):\n",
        "\n",
        "    if self.stochasticity != 1:\n",
        "      action = self.get_action_random(action)\n",
        "\n",
        "    current_pos = cp.deepcopy(self.agent_pos)\n",
        "\n",
        "    if action == 0: # Go left\n",
        "      self.agent_pos[0] -= 1\n",
        "    if action == 1: # Go up\n",
        "      self.agent_pos[1] -= 1\n",
        "    if action == 2: # Go right\n",
        "      self.agent_pos[0] += 1\n",
        "    if action == 3: # Go down\n",
        "      self.agent_pos[1] += 1\n",
        "    \n",
        "    self.agent_pos = list(np.clip(self.agent_pos, 0, 3))\n",
        "    future_pos = self.agent_pos\n",
        "    self.state = np.zeros((4,4))\n",
        "    self.state[tuple(self.agent_pos)] = 1\n",
        "    self.state[tuple(self.goal_pos)] = 0.5\n",
        "    observation = self.state.flatten()\n",
        "\n",
        "    reward = self.get_reward(current_pos, future_pos)\n",
        "\n",
        "    self.timestep += 1\n",
        "    done = True if self.timestep >= self.max_timesteps or self.agent_pos == self.goal_pos else False\n",
        "    info = {}\n",
        "\n",
        "    return observation, reward, done, info, action\n",
        "\n",
        "  # the reward is calculated on the basis of the distance of the\n",
        "  # current_pos and future_pos of the agent from the goal_pos\n",
        "  def get_reward(self, current_pos, future_pos):\n",
        "\n",
        "    current_dist = self.distance_from_goal(current_pos)\n",
        "    final_dist = self.distance_from_goal(future_pos)\n",
        "\n",
        "    if final_dist < current_dist:\n",
        "      return 1\n",
        "    else:\n",
        "      return -1\n",
        "  \n",
        "  def distance_from_goal(self, pos):\n",
        "    x_final, y_final = self.goal_pos\n",
        "    x, y = pos\n",
        "    return math.sqrt( (y_final - y)**2 + (x_final - x)**2 )\n",
        "\n",
        "  def get_action_random(self, action):\n",
        "    if action == 1:\n",
        "      return 3\n",
        "    else:\n",
        "      return action\n",
        "      \n",
        "\n",
        "  # https://stackoverflow.com/questions/25698448/how-to-embed-html-into-ipython-output\n",
        "  # https://stackoverflow.com/questions/55562088/open-base64-string-image-in-jupyter-notebook-without-saving\n",
        "  # https://stackoverflow.com/questions/49015957/how-to-get-python-graph-output-into-html-webpage-directly\n",
        "  # https://star-ai.github.io/Rendering-OpenAi-Gym-in-Colaboratory/\n",
        "  def render(self):\n",
        "    plt.figure()\n",
        "    # plt.imshow(self.state)\n",
        "    img = io.BytesIO()\n",
        "    plt.imsave(img, self.state)\n",
        "    img.seek(0)\n",
        "    img_val = img.getvalue()\n",
        "    # print(img_val)\n",
        "    encoded_image = b64encode(img_val)\n",
        "    my_html = '<img height=\"225px\" width=\"300px\" src=\"data:image/png;base64, {}\">'.format(encoded_image.decode('utf-8'))\n",
        "    display(HTML('<h1>' + my_html + '</h1>'))"
      ]
    },
    {
      "cell_type": "markdown",
      "metadata": {
        "id": "zdFVrOh28LUK"
      },
      "source": [
        "The following function returns the action the agent 🤖 will take"
      ]
    },
    {
      "cell_type": "code",
      "execution_count": 13,
      "metadata": {
        "colab": {
          "base_uri": "https://localhost:8080/",
          "height": 291
        },
        "id": "wi0wRi41vVCL",
        "outputId": "53916079-694b-49ff-bdb3-a2eafc0070ea"
      },
      "outputs": [
        {
          "output_type": "display_data",
          "data": {
            "text/plain": [
              "<IPython.core.display.HTML object>"
            ],
            "text/html": [
              "<h1><img height=\"225px\" width=\"300px\" src=\"data:image/png;base64, iVBORw0KGgoAAAANSUhEUgAAAAQAAAAECAYAAACp8Z5+AAAABHNCSVQICAgIfAhkiAAAAAlwSFlzAAAPYQAAD2EBqD+naQAAACNJREFUCJlj/Ptc5b+7lAEDDDAhcxgYGBiYGNAAisCdfgsGAAymBdS1TB5/AAAAAElFTkSuQmCC\"></h1>"
            ]
          },
          "metadata": {}
        },
        {
          "output_type": "display_data",
          "data": {
            "text/plain": [
              "<Figure size 432x288 with 0 Axes>"
            ]
          },
          "metadata": {}
        }
      ],
      "source": [
        "stochasticity = 1.0\n",
        "max_timesteps = 15\n",
        "observation_space = 16\n",
        "action_space = 4\n",
        "max_timesteps = 10\n",
        "\n",
        "env = GridEnvironment(observation_space, action_space, max_timesteps, stochasticity=1)\n",
        "obs = env.reset()\n",
        "env.render()"
      ]
    },
    {
      "cell_type": "code",
      "execution_count": 14,
      "metadata": {
        "id": "9H6KtQIw8MCh"
      },
      "outputs": [],
      "source": [
        "def get_action():\n",
        "    return np.random.choice(env.action_space.n)\n",
        "\n",
        "def one_hot(x, depth=16):\n",
        "  return np.take(np.eye(depth), x, axis=0).astype(np.float32)\n",
        "\n",
        "def get_state_from_position(pos):\n",
        "    X, Y = env.state.shape\n",
        "    pos_x, pos_y = pos\n",
        "    return Y * pos_x + pos_y"
      ]
    },
    {
      "cell_type": "code",
      "execution_count": 15,
      "metadata": {
        "id": "tZbvqvGT8Sic"
      },
      "outputs": [],
      "source": [
        "import numpy as np\n",
        "import torch\n",
        "\n",
        "\n",
        "# l1 = 16 as it will receive the one hot encoded observation space\n",
        "l1 = 16\n",
        "l2 = 150\n",
        "l3 = 100\n",
        "l4 = 4\n",
        "model = torch.nn.Sequential(\n",
        "  torch.nn.Linear(l1, l2),\n",
        "  torch.nn.ReLU(),\n",
        "  torch.nn.Linear(l2, l3),\n",
        "  torch.nn.ReLU(),\n",
        "  torch.nn.Linear(l3,l4)\n",
        ")\n",
        "if torch.cuda.is_available():\n",
        "  model = model.cuda()\n",
        "loss_fn = torch.nn.MSELoss()\n",
        "learning_rate = 1e-3\n",
        "optimizer = torch.optim.Adam(model.parameters(), lr=learning_rate)\n",
        "gamma = 0.9"
      ]
    },
    {
      "cell_type": "code",
      "source": [
        "!pip install hiddenlayer"
      ],
      "metadata": {
        "colab": {
          "base_uri": "https://localhost:8080/"
        },
        "id": "rLXMfoqjflOp",
        "outputId": "0a7eb58c-1015-43af-85db-b68797977ceb"
      },
      "execution_count": 16,
      "outputs": [
        {
          "output_type": "stream",
          "name": "stdout",
          "text": [
            "Requirement already satisfied: hiddenlayer in /usr/local/lib/python3.7/dist-packages (0.3)\n"
          ]
        }
      ]
    },
    {
      "cell_type": "code",
      "source": [
        "import hiddenlayer as hl"
      ],
      "metadata": {
        "id": "nqux_N1Gfwcq"
      },
      "execution_count": 17,
      "outputs": []
    },
    {
      "cell_type": "code",
      "source": [
        "hl.build_graph(model, torch.zeros([1, 16]).cuda())"
      ],
      "metadata": {
        "colab": {
          "base_uri": "https://localhost:8080/",
          "height": 176
        },
        "id": "YKXgdw3lflJE",
        "outputId": "8451f0c7-8b9a-4f88-bc6d-5f0a5cba65de"
      },
      "execution_count": 18,
      "outputs": [
        {
          "output_type": "execute_result",
          "data": {
            "text/plain": [
              "<hiddenlayer.graph.Graph at 0x7fdc30e13710>"
            ],
            "image/svg+xml": "<?xml version=\"1.0\" encoding=\"UTF-8\" standalone=\"no\"?>\n<!DOCTYPE svg PUBLIC \"-//W3C//DTD SVG 1.1//EN\"\n \"http://www.w3.org/Graphics/SVG/1.1/DTD/svg11.dtd\">\n<!-- Generated by graphviz version 2.40.1 (20161225.0304)\n -->\n<!-- Title: %3 Pages: 1 -->\n<svg width=\"306pt\" height=\"116pt\"\n viewBox=\"0.00 0.00 306.00 116.00\" xmlns=\"http://www.w3.org/2000/svg\" xmlns:xlink=\"http://www.w3.org/1999/xlink\">\n<g id=\"graph0\" class=\"graph\" transform=\"scale(1 1) rotate(0) translate(72 80)\">\n<title>%3</title>\n<polygon fill=\"#ffffff\" stroke=\"transparent\" points=\"-72,36 -72,-80 234,-80 234,36 -72,36\"/>\n<!-- /outputs/11 -->\n<g id=\"node1\" class=\"node\">\n<title>/outputs/11</title>\n<polygon fill=\"#e8e8e8\" stroke=\"#000000\" points=\"162,-40 108,-40 108,-4 162,-4 162,-40\"/>\n<text text-anchor=\"start\" x=\"122\" y=\"-19\" font-family=\"Times\" font-size=\"10.00\" fill=\"#000000\">Linear</text>\n</g>\n<!-- 17468624448902002819 -->\n<g id=\"node2\" class=\"node\">\n<title>17468624448902002819</title>\n<polygon fill=\"#e8e8e8\" stroke=\"#000000\" points=\"72,-44 0,-44 0,0 72,0 72,-44\"/>\n<text text-anchor=\"start\" x=\"8\" y=\"-28\" font-family=\"Times\" font-size=\"10.00\" fill=\"#000000\">Linear &gt; Relu</text>\n<text text-anchor=\"start\" x=\"57\" y=\"-7\" font-family=\"Times\" font-size=\"10.00\" fill=\"#000000\">x2</text>\n</g>\n<!-- 17468624448902002819&#45;&gt;/outputs/11 -->\n<g id=\"edge1\" class=\"edge\">\n<title>17468624448902002819&#45;&gt;/outputs/11</title>\n<path fill=\"none\" stroke=\"#000000\" d=\"M72.0213,-22C80.3402,-22 89.2088,-22 97.5856,-22\"/>\n<polygon fill=\"#000000\" stroke=\"#000000\" points=\"97.8548,-25.5001 107.8547,-22 97.8547,-18.5001 97.8548,-25.5001\"/>\n</g>\n</g>\n</svg>\n"
          },
          "metadata": {},
          "execution_count": 18
        }
      ]
    },
    {
      "cell_type": "code",
      "execution_count": 19,
      "metadata": {
        "colab": {
          "base_uri": "https://localhost:8080/"
        },
        "id": "DRxpPvVom878",
        "outputId": "d2875c80-7477-4b65-8184-483223d5dc36"
      },
      "outputs": [
        {
          "output_type": "stream",
          "name": "stderr",
          "text": [
            "  0%|          | 0/1000 [00:00<?, ?it/s]/usr/local/lib/python3.7/dist-packages/numpy/lib/function_base.py:380: RuntimeWarning: Mean of empty slice.\n",
            "  avg = a.mean(axis)\n",
            "/usr/local/lib/python3.7/dist-packages/numpy/core/_methods.py:189: RuntimeWarning: invalid value encountered in double_scalars\n",
            "  ret = ret.dtype.type(ret / rcount)\n",
            "100%|██████████| 1000/1000 [02:09<00:00,  7.75it/s, loss=1.76]\n"
          ]
        }
      ],
      "source": [
        "batch_length = 5\n",
        "\n",
        "epsilon = 1.0\n",
        "epochs = 1000\n",
        "losses = list()\n",
        "mem_size = 1000 * batch_length                                                            \n",
        "batch_size = 200 * batch_length                                                                   \n",
        "# replay = deque(maxlen=mem_size)\n",
        "replay = np.array(list(), dtype=np.int32)\n",
        "max_moves = 50                                                                 \n",
        "h = 0\n",
        "rate_of_decay = 10**(-8/epochs)\n",
        "epsilon_list = list()\n",
        "epsilon_list.append(epsilon)\n",
        "tot_reward_list = list()\n",
        "\n",
        "\n",
        "debug = True\n",
        "\n",
        "t = trange(epochs)\n",
        "\n",
        "for i in t:\n",
        "  env.reset()\n",
        "\n",
        "  completed = False\n",
        "\n",
        "  loss_ep = list()\n",
        "\n",
        "  tot_reward = 0\n",
        "\n",
        "  while not completed:\n",
        "\n",
        "    current_state = get_state_from_position(env.agent_pos)\n",
        "    current_state_oh = one_hot(current_state)\n",
        "    current_state_oh = torch.from_numpy(current_state_oh)\n",
        "    if torch.cuda.is_available():\n",
        "        current_state_oh = current_state_oh.cuda()\n",
        "    qval = model(current_state_oh)                                                   \n",
        "    qval_ = qval.data.cpu().numpy()\n",
        "\n",
        "    if (random.random() < epsilon):                                       \n",
        "      current_action = get_action()\n",
        "    else:\n",
        "      current_action = np.argmax(qval_)\n",
        "\n",
        "    future_state = get_state_from_position(env.agent_pos)\n",
        "    observation, reward, done, info, action = env.step(current_action)\n",
        "\n",
        "    tot_reward+=reward\n",
        "    \n",
        "    record = np.array([current_state, current_action, reward, future_state, done])\n",
        "    \n",
        "    if len(replay) >= mem_size:\n",
        "      while(len(replay)<mem_size):\n",
        "        replay = np.delete(replay, replay[0:5], axis=0)\n",
        "    if len(replay) < mem_size: \n",
        "      replay = np.append(replay, record, axis=0)\n",
        "  \n",
        "\n",
        "    if len(replay) >= batch_size:\n",
        "      rng = np.random.default_rng()\n",
        "      minibatch = np.reshape(replay, (len(replay)// batch_length, batch_length))\n",
        "      minibatch = rng.choice(minibatch, batch_size)\n",
        "      \n",
        "      action_ = list()\n",
        "      reward_ = list()\n",
        "      done_ = list()\n",
        "      state1_ = list()\n",
        "      state2_ = list()\n",
        "\n",
        "      for val in minibatch:\n",
        "        \n",
        "        state1_.append(one_hot(val[0]))\n",
        "\n",
        "        action_.append(val[1])\n",
        "        \n",
        "        reward_.append(val[2])\n",
        "        \n",
        "        state2_.append(one_hot(val[3]))\n",
        "        \n",
        "        done_.append(val[4])\n",
        "        \n",
        "      \n",
        "      action_ = np.array(action_)\n",
        "      reward_ = np.array(reward_)\n",
        "      done_ = np.array(done_)\n",
        "      state1_ = np.array(state1_)\n",
        "      state2_ = np.array(state2_)\n",
        "\n",
        "      state1_batch = torch.from_numpy(state1_).cuda()\n",
        "      action_batch = torch.from_numpy(action_).cuda()\n",
        "      reward_batch = torch.from_numpy(reward_).cuda()\n",
        "      state2_batch = torch.from_numpy(state2_).cuda()\n",
        "      done_batch = torch.from_numpy(done_).cuda()\n",
        "      \n",
        "      Q1 = model(state1_batch)                                           \n",
        "      with torch.no_grad():\n",
        "          Q2 = model(state2_batch)                                      \n",
        "      \n",
        "      Y = reward_batch + gamma * ((1 - done_batch) * torch.max(Q2,dim=1)[0])\n",
        "      X = Q1.gather(dim=1,index=action_batch.long().unsqueeze(dim=1)).squeeze()\n",
        "      loss = loss_fn(X, Y.detach())\n",
        "      optimizer.zero_grad()\n",
        "      loss.backward()\n",
        "      loss_ep.append(loss.item())\n",
        "      optimizer.step() \n",
        "\n",
        "    completed = True if done else False\n",
        "  epsilon = epsilon*rate_of_decay\n",
        "  epsilon_list.append(epsilon)\n",
        "  tot_reward_list.append(tot_reward)\n",
        "  if(len(loss_ep)==0):\n",
        "    losses.append(float('inf'))\n",
        "  else:\n",
        "    losses.append(np.average(loss_ep))\n",
        "  t.set_postfix(loss=np.average(loss_ep))\n",
        "\n",
        "losses = np.array(losses)"
      ]
    },
    {
      "cell_type": "code",
      "execution_count": 20,
      "metadata": {
        "id": "dOSEQIUfeOEW",
        "outputId": "41c4748d-c213-4ca4-81ac-e4b7021620de",
        "colab": {
          "base_uri": "https://localhost:8080/",
          "height": 312
        }
      },
      "outputs": [
        {
          "output_type": "execute_result",
          "data": {
            "text/plain": [
              "<matplotlib.legend.Legend at 0x7fdc30ca0fd0>"
            ]
          },
          "metadata": {},
          "execution_count": 20
        },
        {
          "output_type": "display_data",
          "data": {
            "text/plain": [
              "<Figure size 432x288 with 1 Axes>"
            ],
            "image/png": "[encoded data removed]"
          },
          "metadata": {
            "needs_background": "light"
          }
        }
      ],
      "source": [
        "plt.title(\"Loss Per Episode\")\n",
        "plt.xlabel(\"Epochs\")\n",
        "plt.ylabel(\"Loss\")\n",
        "plt.plot(range(len(losses)), losses, label = 'Loss per Episode')\n",
        "# plt.plot(range(10), rewards[:, 5, 1], label = 'Cumulative Reward per episode')\n",
        "plt.legend()"
      ]
    },
    {
      "cell_type": "code",
      "execution_count": 21,
      "metadata": {
        "id": "sBqZ_boIeOEW",
        "outputId": "761b8e20-929d-41c9-d06a-d90fd894f89e",
        "colab": {
          "base_uri": "https://localhost:8080/",
          "height": 312
        }
      },
      "outputs": [
        {
          "output_type": "execute_result",
          "data": {
            "text/plain": [
              "<matplotlib.legend.Legend at 0x7fdc30377bd0>"
            ]
          },
          "metadata": {},
          "execution_count": 21
        },
        {
          "output_type": "display_data",
          "data": {
            "text/plain": [
              "<Figure size 432x288 with 1 Axes>"
            ],
            "image/png": "[encoded data removed]"
          },
          "metadata": {
            "needs_background": "light"
          }
        }
      ],
      "source": [
        "plt.title(\"Reward Per Episode\")\n",
        "plt.xlabel(\"Epochs\")\n",
        "plt.ylabel(\"Reward\")\n",
        "plt.plot(range(len(tot_reward_list)), tot_reward_list, label = 'Total Reward per Episode')\n",
        "# plt.plot(range(10), rewards[:, 5, 1], label = 'Cumulative Reward per episode')\n",
        "plt.legend()"
      ]
    },
    {
      "cell_type": "code",
      "execution_count": 22,
      "metadata": {
        "id": "n6HAHpK3eOEX",
        "outputId": "c33609e1-c3bd-4515-ef7c-06189f2bef5e",
        "colab": {
          "base_uri": "https://localhost:8080/",
          "height": 312
        }
      },
      "outputs": [
        {
          "output_type": "execute_result",
          "data": {
            "text/plain": [
              "<matplotlib.legend.Legend at 0x7fdc303fd050>"
            ]
          },
          "metadata": {},
          "execution_count": 22
        },
        {
          "output_type": "display_data",
          "data": {
            "text/plain": [
              "<Figure size 432x288 with 1 Axes>"
            ],
            "image/png": "[encoded data removed]"
          },
          "metadata": {
            "needs_background": "light"
          }
        }
      ],
      "source": [
        "plt.title(\"Epsilon Per Episode\")\n",
        "plt.xlabel(\"Epochs\")\n",
        "plt.ylabel(\"Epsilon\")\n",
        "plt.plot(range(len(epsilon_list)), epsilon_list, label = 'Epsilon per Episode')\n",
        "# plt.plot(range(10), rewards[:, 5, 1], label = 'Cumulative Reward per episode')\n",
        "plt.legend()"
      ]
    },
    {
      "cell_type": "code",
      "execution_count": 23,
      "metadata": {
        "id": "M-yubQPreOEX"
      },
      "outputs": [],
      "source": [
        "rewards_list = list()\n",
        "\n",
        "for i in range(10):  \n",
        "  env.reset()\n",
        "\n",
        "  completed = False\n",
        "\n",
        "  reward_list = list()\n",
        "\n",
        "  tot_reward = 0\n",
        "\n",
        "  cum_reward = 0\n",
        "\n",
        "  steps = 0\n",
        "\n",
        "  loss_ep = list()\n",
        "\n",
        "  while not completed:\n",
        "\n",
        "    current_state = get_state_from_position(env.agent_pos)\n",
        "    current_state_oh = one_hot(current_state)\n",
        "    current_state_oh = torch.from_numpy(current_state_oh).cuda()\n",
        "    with torch.no_grad():\n",
        "      qval = model(current_state_oh)                                                   \n",
        "    \n",
        "    qval_ = qval.data.cpu().numpy()\n",
        "    \n",
        "    current_action = np.argmax(qval_)\n",
        "\n",
        "    # future_state = get_state_from_position(env.agent_pos)\n",
        "    observation, reward, done, info, action = env.step(current_action)\n",
        "\n",
        "    tot_reward += reward\n",
        "\n",
        "    cum_reward += pow(gamma, steps)*reward\n",
        "\n",
        "    reward_list.append([tot_reward, cum_reward])\n",
        "\n",
        "    steps += 1\n",
        "\n",
        "    completed = True if done else False\n",
        "\n",
        "  rewards_list.append(reward_list)"
      ]
    },
    {
      "cell_type": "code",
      "execution_count": 24,
      "metadata": {
        "id": "LoHjLLvkeOEY",
        "outputId": "94a06619-3ccf-442b-cbff-015ab706d278",
        "colab": {
          "base_uri": "https://localhost:8080/",
          "height": 312
        }
      },
      "outputs": [
        {
          "output_type": "execute_result",
          "data": {
            "text/plain": [
              "<matplotlib.legend.Legend at 0x7fdd387eb650>"
            ]
          },
          "metadata": {},
          "execution_count": 24
        },
        {
          "output_type": "display_data",
          "data": {
            "text/plain": [
              "<Figure size 432x288 with 1 Axes>"
            ],
            "image/png": "[encoded data removed]"
          },
          "metadata": {
            "needs_background": "light"
          }
        }
      ],
      "source": [
        "rewards = np.array(rewards_list)\n",
        "\n",
        "plt.title(\"Reward Per Episode\")\n",
        "plt.xlabel(\"Step\")\n",
        "plt.ylabel(\"Reward\")\n",
        "plt.plot(range(10), rewards[:,  5, 0], label = 'Total Reward per Episode')\n",
        "plt.plot(range(10), rewards[:, 5, 1], label = 'Cumulative Reward per episode')\n",
        "plt.legend()"
      ]
    },
    {
      "cell_type": "markdown",
      "source": [
        "# Part III - DQN on OpenAI Gym environments\n",
        "\n"
      ],
      "metadata": {
        "id": "H9XObJKqyc_A"
      }
    },
    {
      "cell_type": "markdown",
      "source": [
        "## a) DQN for CartPole-v1"
      ],
      "metadata": {
        "id": "-cfskf0eym1U"
      }
    },
    {
      "cell_type": "code",
      "source": [
        "cartpole_env = gym.make('CartPole-v1')\n",
        "\n",
        "# Let's watch how an untrained agent moves around\n",
        "state = cartpole_env.reset()\n",
        "prev_screen = cartpole_env.render(mode='rgb_array')\n",
        "plt.imshow(prev_screen)\n",
        "for j in range(100):\n",
        "    action = random.choice(range(2))\n",
        "    screen = cartpole_env.render(mode='rgb_array')\n",
        "    plt.imshow(screen)\n",
        "    ipythondisplay.display(plt.gcf())\n",
        "    ipythondisplay.clear_output(wait=True)\n",
        "    state, reward, done, _ = cartpole_env.step(action)\n",
        "    if done:\n",
        "        break \n",
        "\n",
        "ipythondisplay.clear_output(wait=True)        \n",
        "cartpole_env.close()"
      ],
      "metadata": {
        "colab": {
          "base_uri": "https://localhost:8080/",
          "height": 269
        },
        "id": "m_HbIjGRy4DJ",
        "outputId": "ce558646-49ec-4960-de54-1ff6bb7d3224"
      },
      "execution_count": 25,
      "outputs": [
        {
          "output_type": "display_data",
          "data": {
            "text/plain": [
              "<Figure size 432x288 with 1 Axes>"
            ],
            "image/png": "[encoded data removed]"
          },
          "metadata": {
            "needs_background": "light"
          }
        }
      ]
    },
    {
      "cell_type": "markdown",
      "source": [
        "## b) DQN for Atari Breakout"
      ],
      "metadata": {
        "id": "k5Bzp3iXyK3i"
      }
    },
    {
      "cell_type": "code",
      "source": [
        "#ROMS credit - http://www.atarimania.com/rom_collection_archive_atari_2600_roms.html\n",
        "\n",
        "!python -m atari_py.import_roms ."
      ],
      "metadata": {
        "colab": {
          "base_uri": "https://localhost:8080/"
        },
        "id": "bfVpTpj9vwxW",
        "outputId": "153dc33e-7a72-4966-8f8a-126ed6f0c43d"
      },
      "execution_count": 26,
      "outputs": [
        {
          "output_type": "stream",
          "name": "stdout",
          "text": [
            "copying adventure.bin from HC ROMS/BY ALPHABET (PAL)/A-G/Adventure (PAL).bin to /usr/local/lib/python3.7/dist-packages/atari_py/atari_roms/adventure.bin\n",
            "copying air_raid.bin from HC ROMS/BY ALPHABET (PAL)/A-G/Air Raid (PAL).bin to /usr/local/lib/python3.7/dist-packages/atari_py/atari_roms/air_raid.bin\n",
            "copying alien.bin from HC ROMS/BY ALPHABET (PAL)/A-G/REMAINING NTSC ORIGINALS/Alien.bin to /usr/local/lib/python3.7/dist-packages/atari_py/atari_roms/alien.bin\n",
            "copying crazy_climber.bin from HC ROMS/BY ALPHABET (PAL)/A-G/REMAINING NTSC ORIGINALS/Crazy Climber.bin to /usr/local/lib/python3.7/dist-packages/atari_py/atari_roms/crazy_climber.bin\n",
            "copying elevator_action.bin from HC ROMS/BY ALPHABET (PAL)/A-G/REMAINING NTSC ORIGINALS/Elevator Action (Prototype).bin to /usr/local/lib/python3.7/dist-packages/atari_py/atari_roms/elevator_action.bin\n",
            "copying gravitar.bin from HC ROMS/BY ALPHABET (PAL)/A-G/REMAINING NTSC ORIGINALS/Gravitar.bin to /usr/local/lib/python3.7/dist-packages/atari_py/atari_roms/gravitar.bin\n",
            "copying keystone_kapers.bin from HC ROMS/BY ALPHABET (PAL)/H-R/Keystone Kapers (PAL).bin to /usr/local/lib/python3.7/dist-packages/atari_py/atari_roms/keystone_kapers.bin\n",
            "copying king_kong.bin from HC ROMS/BY ALPHABET (PAL)/H-R/King Kong (PAL).bin to /usr/local/lib/python3.7/dist-packages/atari_py/atari_roms/king_kong.bin\n",
            "copying laser_gates.bin from HC ROMS/BY ALPHABET (PAL)/H-R/Laser Gates (PAL).bin to /usr/local/lib/python3.7/dist-packages/atari_py/atari_roms/laser_gates.bin\n",
            "copying mr_do.bin from HC ROMS/BY ALPHABET (PAL)/H-R/Mr. Do! (PAL).bin to /usr/local/lib/python3.7/dist-packages/atari_py/atari_roms/mr_do.bin\n",
            "copying pacman.bin from HC ROMS/BY ALPHABET (PAL)/H-R/Pac-Man (PAL).bin to /usr/local/lib/python3.7/dist-packages/atari_py/atari_roms/pacman.bin\n",
            "copying jamesbond.bin from HC ROMS/BY ALPHABET (PAL)/H-R/REMAINING NTSC ORIGINALS/James Bond 007.bin to /usr/local/lib/python3.7/dist-packages/atari_py/atari_roms/jamesbond.bin\n",
            "copying koolaid.bin from HC ROMS/BY ALPHABET (PAL)/H-R/REMAINING NTSC ORIGINALS/Kool-Aid Man.bin to /usr/local/lib/python3.7/dist-packages/atari_py/atari_roms/koolaid.bin\n",
            "copying krull.bin from HC ROMS/BY ALPHABET (PAL)/H-R/REMAINING NTSC ORIGINALS/Krull.bin to /usr/local/lib/python3.7/dist-packages/atari_py/atari_roms/krull.bin\n",
            "copying montezuma_revenge.bin from HC ROMS/BY ALPHABET (PAL)/H-R/REMAINING NTSC ORIGINALS/Montezuma's Revenge - Featuring Panama Joe.bin to /usr/local/lib/python3.7/dist-packages/atari_py/atari_roms/montezuma_revenge.bin\n",
            "copying star_gunner.bin from HC ROMS/BY ALPHABET (PAL)/S-Z/REMAINING NTSC ORIGINALS/Stargunner.bin to /usr/local/lib/python3.7/dist-packages/atari_py/atari_roms/star_gunner.bin\n",
            "copying time_pilot.bin from HC ROMS/BY ALPHABET (PAL)/S-Z/REMAINING NTSC ORIGINALS/Time Pilot.bin to /usr/local/lib/python3.7/dist-packages/atari_py/atari_roms/time_pilot.bin\n",
            "copying up_n_down.bin from HC ROMS/BY ALPHABET (PAL)/S-Z/REMAINING NTSC ORIGINALS/Up 'n Down.bin to /usr/local/lib/python3.7/dist-packages/atari_py/atari_roms/up_n_down.bin\n",
            "copying sir_lancelot.bin from HC ROMS/BY ALPHABET (PAL)/S-Z/Sir Lancelot (PAL).bin to /usr/local/lib/python3.7/dist-packages/atari_py/atari_roms/sir_lancelot.bin\n",
            "copying amidar.bin from HC ROMS/BY ALPHABET/A-G/Amidar.bin to /usr/local/lib/python3.7/dist-packages/atari_py/atari_roms/amidar.bin\n",
            "copying asteroids.bin from HC ROMS/BY ALPHABET/A-G/Asteroids [no copyright].bin to /usr/local/lib/python3.7/dist-packages/atari_py/atari_roms/asteroids.bin\n",
            "copying atlantis.bin from HC ROMS/BY ALPHABET/A-G/Atlantis.bin to /usr/local/lib/python3.7/dist-packages/atari_py/atari_roms/atlantis.bin\n",
            "copying bank_heist.bin from HC ROMS/BY ALPHABET/A-G/Bank Heist.bin to /usr/local/lib/python3.7/dist-packages/atari_py/atari_roms/bank_heist.bin\n",
            "copying battle_zone.bin from HC ROMS/BY ALPHABET/A-G/Battlezone.bin to /usr/local/lib/python3.7/dist-packages/atari_py/atari_roms/battle_zone.bin\n",
            "copying beam_rider.bin from HC ROMS/BY ALPHABET/A-G/Beamrider.bin to /usr/local/lib/python3.7/dist-packages/atari_py/atari_roms/beam_rider.bin\n",
            "copying berzerk.bin from HC ROMS/BY ALPHABET/A-G/Berzerk.bin to /usr/local/lib/python3.7/dist-packages/atari_py/atari_roms/berzerk.bin\n",
            "copying bowling.bin from HC ROMS/BY ALPHABET/A-G/Bowling.bin to /usr/local/lib/python3.7/dist-packages/atari_py/atari_roms/bowling.bin\n",
            "copying boxing.bin from HC ROMS/BY ALPHABET/A-G/Boxing.bin to /usr/local/lib/python3.7/dist-packages/atari_py/atari_roms/boxing.bin\n",
            "copying breakout.bin from HC ROMS/BY ALPHABET/A-G/Breakout - Breakaway IV.bin to /usr/local/lib/python3.7/dist-packages/atari_py/atari_roms/breakout.bin\n",
            "copying carnival.bin from HC ROMS/BY ALPHABET/A-G/Carnival.bin to /usr/local/lib/python3.7/dist-packages/atari_py/atari_roms/carnival.bin\n",
            "copying centipede.bin from HC ROMS/BY ALPHABET/A-G/Centipede.bin to /usr/local/lib/python3.7/dist-packages/atari_py/atari_roms/centipede.bin\n",
            "copying chopper_command.bin from HC ROMS/BY ALPHABET/A-G/Chopper Command.bin to /usr/local/lib/python3.7/dist-packages/atari_py/atari_roms/chopper_command.bin\n",
            "copying defender.bin from HC ROMS/BY ALPHABET/A-G/Defender.bin to /usr/local/lib/python3.7/dist-packages/atari_py/atari_roms/defender.bin\n",
            "copying demon_attack.bin from HC ROMS/BY ALPHABET/A-G/Demon Attack.bin to /usr/local/lib/python3.7/dist-packages/atari_py/atari_roms/demon_attack.bin\n",
            "copying donkey_kong.bin from HC ROMS/BY ALPHABET/A-G/Donkey Kong.bin to /usr/local/lib/python3.7/dist-packages/atari_py/atari_roms/donkey_kong.bin\n",
            "copying double_dunk.bin from HC ROMS/BY ALPHABET/A-G/Double Dunk.bin to /usr/local/lib/python3.7/dist-packages/atari_py/atari_roms/double_dunk.bin\n",
            "copying enduro.bin from HC ROMS/BY ALPHABET/A-G/Enduro.bin to /usr/local/lib/python3.7/dist-packages/atari_py/atari_roms/enduro.bin\n",
            "copying fishing_derby.bin from HC ROMS/BY ALPHABET/A-G/Fishing Derby.bin to /usr/local/lib/python3.7/dist-packages/atari_py/atari_roms/fishing_derby.bin\n",
            "copying freeway.bin from HC ROMS/BY ALPHABET/A-G/Freeway.bin to /usr/local/lib/python3.7/dist-packages/atari_py/atari_roms/freeway.bin\n",
            "copying frogger.bin from HC ROMS/BY ALPHABET/A-G/Frogger.bin to /usr/local/lib/python3.7/dist-packages/atari_py/atari_roms/frogger.bin\n",
            "copying frostbite.bin from HC ROMS/BY ALPHABET/A-G/Frostbite.bin to /usr/local/lib/python3.7/dist-packages/atari_py/atari_roms/frostbite.bin\n",
            "copying galaxian.bin from HC ROMS/BY ALPHABET/A-G/Galaxian.bin to /usr/local/lib/python3.7/dist-packages/atari_py/atari_roms/galaxian.bin\n",
            "copying gopher.bin from HC ROMS/BY ALPHABET/A-G/Gopher.bin to /usr/local/lib/python3.7/dist-packages/atari_py/atari_roms/gopher.bin\n",
            "copying hero.bin from HC ROMS/BY ALPHABET/H-R/H.E.R.O..bin to /usr/local/lib/python3.7/dist-packages/atari_py/atari_roms/hero.bin\n",
            "copying ice_hockey.bin from HC ROMS/BY ALPHABET/H-R/Ice Hockey.bin to /usr/local/lib/python3.7/dist-packages/atari_py/atari_roms/ice_hockey.bin\n",
            "copying journey_escape.bin from HC ROMS/BY ALPHABET/H-R/Journey Escape.bin to /usr/local/lib/python3.7/dist-packages/atari_py/atari_roms/journey_escape.bin\n",
            "copying kaboom.bin from HC ROMS/BY ALPHABET/H-R/Kaboom!.bin to /usr/local/lib/python3.7/dist-packages/atari_py/atari_roms/kaboom.bin\n",
            "copying kangaroo.bin from HC ROMS/BY ALPHABET/H-R/Kangaroo.bin to /usr/local/lib/python3.7/dist-packages/atari_py/atari_roms/kangaroo.bin\n",
            "copying kung_fu_master.bin from HC ROMS/BY ALPHABET/H-R/Kung-Fu Master.bin to /usr/local/lib/python3.7/dist-packages/atari_py/atari_roms/kung_fu_master.bin\n",
            "copying lost_luggage.bin from HC ROMS/BY ALPHABET/H-R/Lost Luggage [no opening scene].bin to /usr/local/lib/python3.7/dist-packages/atari_py/atari_roms/lost_luggage.bin\n",
            "copying ms_pacman.bin from HC ROMS/BY ALPHABET/H-R/Ms. Pac-Man.bin to /usr/local/lib/python3.7/dist-packages/atari_py/atari_roms/ms_pacman.bin\n",
            "copying name_this_game.bin from HC ROMS/BY ALPHABET/H-R/Name This Game.bin to /usr/local/lib/python3.7/dist-packages/atari_py/atari_roms/name_this_game.bin\n",
            "copying phoenix.bin from HC ROMS/BY ALPHABET/H-R/Phoenix.bin to /usr/local/lib/python3.7/dist-packages/atari_py/atari_roms/phoenix.bin\n",
            "copying pitfall.bin from HC ROMS/BY ALPHABET/H-R/Pitfall! - Pitfall Harry's Jungle Adventure.bin to /usr/local/lib/python3.7/dist-packages/atari_py/atari_roms/pitfall.bin\n",
            "copying pooyan.bin from HC ROMS/BY ALPHABET/H-R/Pooyan.bin to /usr/local/lib/python3.7/dist-packages/atari_py/atari_roms/pooyan.bin\n",
            "copying private_eye.bin from HC ROMS/BY ALPHABET/H-R/Private Eye.bin to /usr/local/lib/python3.7/dist-packages/atari_py/atari_roms/private_eye.bin\n",
            "copying qbert.bin from HC ROMS/BY ALPHABET/H-R/Q-bert.bin to /usr/local/lib/python3.7/dist-packages/atari_py/atari_roms/qbert.bin\n",
            "copying riverraid.bin from HC ROMS/BY ALPHABET/H-R/River Raid.bin to /usr/local/lib/python3.7/dist-packages/atari_py/atari_roms/riverraid.bin\n",
            "copying road_runner.bin from patched version of HC ROMS/BY ALPHABET/H-R/Road Runner.bin to /usr/local/lib/python3.7/dist-packages/atari_py/atari_roms/road_runner.bin\n",
            "copying robotank.bin from HC ROMS/BY ALPHABET/H-R/Robot Tank.bin to /usr/local/lib/python3.7/dist-packages/atari_py/atari_roms/robotank.bin\n",
            "copying seaquest.bin from HC ROMS/BY ALPHABET/S-Z/Seaquest.bin to /usr/local/lib/python3.7/dist-packages/atari_py/atari_roms/seaquest.bin\n",
            "copying skiing.bin from HC ROMS/BY ALPHABET/S-Z/Skiing.bin to /usr/local/lib/python3.7/dist-packages/atari_py/atari_roms/skiing.bin\n",
            "copying solaris.bin from HC ROMS/BY ALPHABET/S-Z/Solaris.bin to /usr/local/lib/python3.7/dist-packages/atari_py/atari_roms/solaris.bin\n",
            "copying space_invaders.bin from HC ROMS/BY ALPHABET/S-Z/Space Invaders.bin to /usr/local/lib/python3.7/dist-packages/atari_py/atari_roms/space_invaders.bin\n",
            "copying surround.bin from HC ROMS/BY ALPHABET/S-Z/Surround - Chase.bin to /usr/local/lib/python3.7/dist-packages/atari_py/atari_roms/surround.bin\n",
            "copying tennis.bin from HC ROMS/BY ALPHABET/S-Z/Tennis.bin to /usr/local/lib/python3.7/dist-packages/atari_py/atari_roms/tennis.bin\n",
            "copying trondead.bin from HC ROMS/BY ALPHABET/S-Z/TRON - Deadly Discs.bin to /usr/local/lib/python3.7/dist-packages/atari_py/atari_roms/trondead.bin\n",
            "copying tutankham.bin from HC ROMS/BY ALPHABET/S-Z/Tutankham.bin to /usr/local/lib/python3.7/dist-packages/atari_py/atari_roms/tutankham.bin\n",
            "copying venture.bin from HC ROMS/BY ALPHABET/S-Z/Venture.bin to /usr/local/lib/python3.7/dist-packages/atari_py/atari_roms/venture.bin\n",
            "copying pong.bin from HC ROMS/BY ALPHABET/S-Z/Video Olympics - Pong Sports.bin to /usr/local/lib/python3.7/dist-packages/atari_py/atari_roms/pong.bin\n",
            "copying video_pinball.bin from HC ROMS/BY ALPHABET/S-Z/Video Pinball - Arcade Pinball.bin to /usr/local/lib/python3.7/dist-packages/atari_py/atari_roms/video_pinball.bin\n",
            "copying wizard_of_wor.bin from HC ROMS/BY ALPHABET/S-Z/Wizard of Wor.bin to /usr/local/lib/python3.7/dist-packages/atari_py/atari_roms/wizard_of_wor.bin\n",
            "copying yars_revenge.bin from HC ROMS/BY ALPHABET/S-Z/Yars' Revenge.bin to /usr/local/lib/python3.7/dist-packages/atari_py/atari_roms/yars_revenge.bin\n",
            "copying zaxxon.bin from HC ROMS/BY ALPHABET/S-Z/Zaxxon.bin to /usr/local/lib/python3.7/dist-packages/atari_py/atari_roms/zaxxon.bin\n",
            "copying assault.bin from HC ROMS/NTSC VERSIONS OF PAL ORIGINALS/Assault (AKA Sky Alien) (1983) (Bomb - Onbase) (CA281).bin to /usr/local/lib/python3.7/dist-packages/atari_py/atari_roms/assault.bin\n",
            "copying asterix.bin from ROMS/Asterix (AKA Taz) (07-27-1983) (Atari, Jerome Domurat, Steve Woita) (CX2696) (Prototype).bin to /usr/local/lib/python3.7/dist-packages/atari_py/atari_roms/asterix.bin\n"
          ]
        }
      ]
    },
    {
      "cell_type": "code",
      "execution_count": 27,
      "metadata": {
        "id": "LtnUq0uxeOEZ"
      },
      "outputs": [],
      "source": [
        "#Instatntiate gym Atari-Breakout environment\n",
        "breakout_env = gym.make(\"Breakout-v0\")\n",
        "breakout_env.reset()\n",
        "n_actions = breakout_env.action_space.n\n",
        "state_dim = breakout_env.observation_space.shape"
      ]
    },
    {
      "cell_type": "code",
      "source": [
        "print(f'Action Space: {n_actions}\\nObservation Space Dimenions: {state_dim}')"
      ],
      "metadata": {
        "colab": {
          "base_uri": "https://localhost:8080/"
        },
        "id": "Lfg_sie5wBgc",
        "outputId": "eaa09432-4630-46d1-9d58-5143c24c6336"
      },
      "execution_count": 28,
      "outputs": [
        {
          "output_type": "stream",
          "name": "stdout",
          "text": [
            "Action Space: 4\n",
            "Observation Space Dimenions: (210, 160, 3)\n"
          ]
        }
      ]
    },
    {
      "cell_type": "code",
      "source": [
        "state = breakout_env.reset()\n",
        "prev_screen = breakout_env.render(mode='rgb_array')\n",
        "plt.imshow(prev_screen)\n",
        "for j in range(100):\n",
        "#     action = agent.act(state)\n",
        "    action = random.choice(range(n_actions))\n",
        "    screen = breakout_env.render(mode='rgb_array')\n",
        "    plt.imshow(screen)\n",
        "    ipythondisplay.display(plt.gcf())\n",
        "    ipythondisplay.clear_output(wait=True)\n",
        "    state, reward, done, _ = breakout_env.step(action)\n",
        "    if done:\n",
        "        break \n",
        "        \n",
        "breakout_env.close()"
      ],
      "metadata": {
        "colab": {
          "base_uri": "https://localhost:8080/",
          "height": 269
        },
        "id": "ADIkcCT-eCly",
        "outputId": "218fff5c-efff-424e-fd19-94173904cd0e"
      },
      "execution_count": 29,
      "outputs": [
        {
          "output_type": "display_data",
          "data": {
            "text/plain": [
              "<Figure size 432x288 with 1 Axes>"
            ],
            "image/png": "[encoded data removed]"
          },
          "metadata": {
            "needs_background": "light"
          }
        }
      ]
    },
    {
      "cell_type": "code",
      "source": [
        ""
      ],
      "metadata": {
        "id": "sQ1KO0n1xL7H"
      },
      "execution_count": 29,
      "outputs": []
    }
  ],
  "metadata": {
    "colab": {
      "collapsed_sections": [
        "HmtgbWohzhMw"
      ],
      "name": "RL_Assignment_2.ipynb",
      "provenance": []
    },
    "interpreter": {
      "hash": "7c3b01d34565c9fdde920b12ba7e9f817cc93765a4c91bd25da05fa7939268b5"
    },
    "kernelspec": {
      "display_name": "Python 3.8.12 ('pytorch_env')",
      "language": "python",
      "name": "python3"
    },
    "language_info": {
      "codemirror_mode": {
        "name": "ipython",
        "version": 3
      },
      "file_extension": ".py",
      "mimetype": "text/x-python",
      "name": "python",
      "nbconvert_exporter": "python",
      "pygments_lexer": "ipython3",
      "version": "3.7.11"
    },
    "orig_nbformat": 4,
    "accelerator": "GPU"
  },
  "nbformat": 4,
  "nbformat_minor": 0
}