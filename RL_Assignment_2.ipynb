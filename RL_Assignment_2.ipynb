{
  "cells": [
    {
      "cell_type": "markdown",
      "metadata": {
        "id": "0K7LJRx4QBv6"
      },
      "source": [
        "AI statement:\n",
        "\"I certify that the code and data in this assignment were generated independently, using only the tools\n",
        "and resources defined in the course and that I did not receive any external help, coaching, or contributions\n",
        "during the production of this work.\""
      ]
    },
    {
      "cell_type": "markdown",
      "metadata": {
        "id": "_vYSnWaCQBv9"
      },
      "source": [
        "### Part I: Exploring Gym Environment"
      ]
    },
    {
      "cell_type": "markdown",
      "metadata": {},
      "source": []
    },
    {
      "cell_type": "markdown",
      "metadata": {
        "id": "HmtgbWohzhMw"
      },
      "source": [
        "#### Cartpole-v1"
      ]
    },
    {
      "cell_type": "code",
      "execution_count": 23,
      "metadata": {
        "colab": {
          "base_uri": "https://localhost:8080/"
        },
        "id": "DSNjECbtpbzA",
        "outputId": "c24b631f-18b7-4140-8dbe-b04a3d140f64"
      },
      "outputs": [
        {
          "name": "stdout",
          "output_type": "stream",
          "text": [
            "Requirement already satisfied: gym in d:\\anaconda3\\envs\\flask_env\\lib\\site-packages (0.23.1)\n",
            "Requirement already satisfied: numpy>=1.18.0 in d:\\anaconda3\\envs\\flask_env\\lib\\site-packages (from gym) (1.21.5)\n",
            "Requirement already satisfied: cloudpickle>=1.2.0 in d:\\anaconda3\\envs\\flask_env\\lib\\site-packages (from gym) (2.0.0)\n",
            "Requirement already satisfied: importlib-metadata>=4.10.0 in d:\\anaconda3\\envs\\flask_env\\lib\\site-packages (from gym) (4.10.0)\n",
            "Requirement already satisfied: gym-notices>=0.0.4 in d:\\anaconda3\\envs\\flask_env\\lib\\site-packages (from gym) (0.0.6)\n",
            "Requirement already satisfied: zipp>=0.5 in d:\\anaconda3\\envs\\flask_env\\lib\\site-packages (from importlib-metadata>=4.10.0->gym) (3.7.0)\n",
            "Requirement already satisfied: typing-extensions>=3.6.4 in d:\\anaconda3\\envs\\flask_env\\lib\\site-packages (from importlib-metadata>=4.10.0->gym) (4.1.1)\n",
            "Requirement already satisfied: pyvirtualdisplay in d:\\anaconda3\\envs\\flask_env\\lib\\site-packages (3.0)\n",
            "Requirement already satisfied: box2d in d:\\anaconda3\\envs\\flask_env\\lib\\site-packages (2.3.10)\n",
            "Requirement already satisfied: pygame in d:\\anaconda3\\envs\\flask_env\\lib\\site-packages (2.1.2)\n"
          ]
        }
      ],
      "source": [
        "!pip install gym\n",
        "!python -m pip install pyvirtualdisplay\n",
        "!pip install box2d\n",
        "!pip install pygame"
      ]
    },
    {
      "cell_type": "code",
      "execution_count": 24,
      "metadata": {},
      "outputs": [
        {
          "name": "stdout",
          "output_type": "stream",
          "text": [
            "Requirement already satisfied: tqdm in d:\\anaconda3\\envs\\flask_env\\lib\\site-packages (4.63.1)\n",
            "Requirement already satisfied: colorama in d:\\anaconda3\\envs\\flask_env\\lib\\site-packages (from tqdm) (0.4.4)\n"
          ]
        }
      ],
      "source": [
        "!pip install tqdm"
      ]
    },
    {
      "cell_type": "code",
      "execution_count": 25,
      "metadata": {},
      "outputs": [],
      "source": [
        "import matplotlib.pyplot as plt\n",
        "from pyvirtualdisplay import Display\n",
        "import gym\n",
        "import matplotlib.pyplot as plt\n",
        "%matplotlib inline\n",
        "\n",
        "import random\n",
        "\n",
        "from tqdm import tqdm, trange\n"
      ]
    },
    {
      "cell_type": "code",
      "execution_count": 27,
      "metadata": {
        "colab": {
          "base_uri": "https://localhost:8080/",
          "height": 248
        },
        "id": "hE80Z60fpeJv",
        "outputId": "915b652c-4422-4a92-8690-35cac646f00e"
      },
      "outputs": [
        {
          "data": {
            "image/png": "[encoded data removed]",
            "text/plain": [
              "<Figure size 432x288 with 1 Axes>"
            ]
          },
          "metadata": {
            "needs_background": "light"
          },
          "output_type": "display_data"
        }
      ],
      "source": [
        "\n",
        "# display = Display(backend='xvfb', visible=False, size=(400, 300), manage_global_env=True)\n",
        "# display.start()\n",
        "\n",
        "is_ipython = 'inline' in plt.get_backend()\n",
        "if is_ipython:\n",
        "    from IPython import display\n",
        "\n",
        "plt.ion()\n",
        "\n",
        "# Load the gym environment\n",
        "\n",
        "\n",
        "env = gym.make('CartPole-v1')\n",
        "\n",
        "# Let's watch how an untrained agent moves around\n",
        "state = env.reset()\n",
        "img = plt.imshow(env.render(mode='rgb_array'))\n",
        "for j in range(20000):\n",
        "#     action = agent.act(state)\n",
        "    action = random.choice(range(2))\n",
        "    img.set_data(env.render(mode='rgb_array')) \n",
        "    plt.axis('off')\n",
        "    # display.display(plt.gcf())\n",
        "    # display.clear_output(wait=True)\n",
        "    state, reward, done, _ = env.step(action)\n",
        "    if done:\n",
        "        break \n",
        "        \n",
        "env.close()"
      ]
    },
    {
      "cell_type": "markdown",
      "metadata": {
        "id": "eHMoM5yrizXh"
      },
      "source": [
        "Read Environment Properties"
      ]
    },
    {
      "cell_type": "code",
      "execution_count": 28,
      "metadata": {
        "colab": {
          "base_uri": "https://localhost:8080/"
        },
        "id": "Rp-BGQKpwCEH",
        "outputId": "4a28ffb0-1983-4d94-ff6e-e0d4b2465a0e"
      },
      "outputs": [
        {
          "name": "stdout",
          "output_type": "stream",
          "text": [
            "Discrete(2)\n"
          ]
        }
      ],
      "source": [
        "''' Action Space\n",
        "    The action is a `ndarray` with shape `(1,)` which can take values `{0, 1}` indicating the direction of the fixed force the cart is pushed with.\n",
        "    | Num | Action                 |\n",
        "    |-----|------------------------|\n",
        "    | 0   | Push cart to the left  |\n",
        "    | 1   | Push cart to the right |\n",
        "'''\n",
        "print(env.action_space)"
      ]
    },
    {
      "cell_type": "code",
      "execution_count": 29,
      "metadata": {
        "colab": {
          "base_uri": "https://localhost:8080/"
        },
        "id": "mE5ZHvjFwPFs",
        "outputId": "c0797db7-5a65-46f3-80eb-fc2c4e2816dd"
      },
      "outputs": [
        {
          "name": "stdout",
          "output_type": "stream",
          "text": [
            "Box([-4.8000002e+00 -3.4028235e+38 -4.1887903e-01 -3.4028235e+38], [4.8000002e+00 3.4028235e+38 4.1887903e-01 3.4028235e+38], (4,), float32)\n"
          ]
        }
      ],
      "source": [
        "    ''' Observation Space\n",
        "        The observation is a `ndarray` with shape `(4,)` with the values corresponding to the following positions and velocities:\n",
        "        | Num | Observation           | Min                  | Max                |\n",
        "        |-----|-----------------------|----------------------|--------------------|\n",
        "        | 0   | Cart Position         | -4.8                 | 4.8                |\n",
        "        | 1   | Cart Velocity         | -Inf                 | Inf                |\n",
        "        | 2   | Pole Angle            | ~ -0.418 rad (-24°)  | ~ 0.418 rad (24°)  |\n",
        "        | 3   | Pole Angular Velocity | -Inf                 | Inf                |\n",
        "    '''\n",
        "    print(env.observation_space)"
      ]
    },
    {
      "cell_type": "markdown",
      "metadata": {
        "id": "KL7fimRvxheH"
      },
      "source": [
        "**Rewards**  \n",
        "    Since the goal is to keep the pole upright for as long as possible, a reward of `+1` for every step taken, including the termination step, is allotted. The threshold for rewards is 475 for v1.<br><br>\n",
        "**Starting State**  \n",
        "    All observations are assigned a uniformly random value in `(-0.05, 0.05)`<br><br>\n",
        "**Episode Termination**  \n",
        "    The episode terminates if any one of the following occurs:<br>\n",
        "1.   Pole Angle is greater than ±12°\n",
        "2.   Cart Position is greater than ±2.4 (center of the cart reaches the edge of the display)\n",
        "3.   Episode length is greater than 500 (200 for v0)\n"
      ]
    },
    {
      "cell_type": "markdown",
      "metadata": {
        "id": "XupR2NxFz0TJ"
      },
      "source": [
        "#### MountainCar-v0"
      ]
    },
    {
      "cell_type": "code",
      "execution_count": 30,
      "metadata": {
        "colab": {
          "base_uri": "https://localhost:8080/",
          "height": 248
        },
        "id": "69kU0jr30En5",
        "outputId": "089071d1-3db2-4045-e4d9-a838f529c4c7"
      },
      "outputs": [
        {
          "name": "stderr",
          "output_type": "stream",
          "text": [
            "D:\\Anaconda3\\envs\\flask_env\\lib\\site-packages\\gym\\core.py:173: DeprecationWarning: \u001b[33mWARN: Function `env.seed(seed)` is marked as deprecated and will be removed in the future. Please use `env.reset(seed=seed) instead.\u001b[0m\n",
            "  \"Function `env.seed(seed)` is marked as deprecated and will be removed in the future. \"\n"
          ]
        },
        {
          "data": {
            "image/png": "[encoded data removed]",
            "text/plain": [
              "<Figure size 432x288 with 1 Axes>"
            ]
          },
          "metadata": {
            "needs_background": "light"
          },
          "output_type": "display_data"
        }
      ],
      "source": [
        "env2 = gym.make('MountainCar-v0')\n",
        "env2.seed(23)\n",
        "env2.reset()\n",
        "\n",
        "# Let's watch how an untrained agent moves around\n",
        "\n",
        "state = env.reset()\n",
        "img = plt.imshow(env2.render(mode='rgb_array'))\n",
        "for j in range(20000):\n",
        "#     action = agent.act(state)\n",
        "    action = random.choice(range(2))\n",
        "    img.set_data(env2.render(mode='rgb_array')) \n",
        "    plt.axis('off')\n",
        "    # display.display(plt.gcf())\n",
        "    # display.clear_output(wait=True)\n",
        "    state, reward, done, _ = env2.step(action)\n",
        "    if done:\n",
        "        break \n",
        "        \n",
        "env2.close()"
      ]
    },
    {
      "cell_type": "code",
      "execution_count": 31,
      "metadata": {
        "colab": {
          "base_uri": "https://localhost:8080/"
        },
        "id": "6FbwV5kY0mgI",
        "outputId": "be54d085-3e20-41a2-953b-b8c48030e587"
      },
      "outputs": [
        {
          "name": "stdout",
          "output_type": "stream",
          "text": [
            "Discrete(3)\n"
          ]
        }
      ],
      "source": [
        "''' Action Space\n",
        "    There are 3 discrete deterministic actions:\n",
        "    | Num | Observation                                                 | Value   | Unit |\n",
        "    |-----|-------------------------------------------------------------|---------|------|\n",
        "    | 0   | Accelerate to the left                                      | Inf    | position (m) |\n",
        "    | 1   | Don't accelerate                                            | Inf  | position (m) |\n",
        "    | 2   | Accelerate to the right                                     | Inf    | position (m) |\n",
        "'''\n",
        "print(env2.action_space)"
      ]
    },
    {
      "cell_type": "code",
      "execution_count": 32,
      "metadata": {
        "colab": {
          "base_uri": "https://localhost:8080/"
        },
        "id": "XxE6w8xf10O3",
        "outputId": "b8ce0a2c-c9d7-4d7f-eadb-cbe93694277c"
      },
      "outputs": [
        {
          "name": "stdout",
          "output_type": "stream",
          "text": [
            "Box([-1.2  -0.07], [0.6  0.07], (2,), float32)\n"
          ]
        }
      ],
      "source": [
        "    ''' Observation Space\n",
        "        The observation is a `ndarray` with shape `(2,)` where the elements correspond to the following:\n",
        "        | Num | Observation                                                 | Min                | Max    | Unit |\n",
        "        |-----|-------------------------------------------------------------|--------------------|--------|------|\n",
        "        | 0   | position of the car along the x-axis                        | -Inf               | Inf    | position (m) |\n",
        "        | 1   | velocity of the car                                         | -Inf               | Inf  | position (m) |\n",
        "    '''\n",
        "    print(env2.observation_space)"
      ]
    },
    {
      "cell_type": "markdown",
      "metadata": {
        "id": "glwUddcT2vFg"
      },
      "source": [
        "**Reward**  \n",
        "    The goal is to reach the flag placed on top of the right hill as quickly as possible, as such the agent is penalised with a reward of -1 for each timestep it isn't at the goal and is not penalised (reward = 0) for when it reaches the goal.<br><br>\n",
        "**Starting State**  \n",
        "    The position of the car is assigned a uniform random value in [-0.6 , -0.4]. The starting velocity of the car is always assigned to 0.<br><br>\n",
        "**Episode Termination**  \n",
        "The episode terminates if either of the following happens:\n",
        "1. The position of the car is greater than or equal to 0.5 (the goal position on top of the right hill)\n",
        "2. The length of the episode is 200."
      ]
    },
    {
      "cell_type": "markdown",
      "metadata": {
        "id": "gVIQ5OwW3son"
      },
      "source": [
        "### Part II: Implementing DQN & Solving grid-world environment"
      ]
    },
    {
      "cell_type": "code",
      "execution_count": 33,
      "metadata": {
        "id": "Ts29crCe7Wl-"
      },
      "outputs": [],
      "source": [
        "from gym import spaces\n",
        "import pandas as pd\n",
        "import copy as cp\n",
        "import math\n",
        "import numpy as np\n",
        "import io\n",
        "from base64 import b64decode, b64encode\n",
        "from IPython.core.display import display, HTML"
      ]
    },
    {
      "cell_type": "code",
      "execution_count": 34,
      "metadata": {
        "id": "ZZ5J_ljg6HLr"
      },
      "outputs": [],
      "source": [
        "class GridEnvironment(gym.Env):\n",
        "  metadata = { 'render.modes': []}\n",
        "\n",
        "  def __init__(self, observation_space, action_space, max_timesteps, stochasticity=1):\n",
        "    self.observation_space = spaces.Discrete(observation_space)\n",
        "    self.action_space = spaces.Discrete(action_space)\n",
        "    self.max_timesteps = max_timesteps\n",
        "    self.stochasticity = stochasticity\n",
        "\n",
        "  def set_epsilon(self, epsilon):\n",
        "    self.epsilon = epsilon\n",
        "\n",
        "  def reset(self):\n",
        "    self.timestep = 0\n",
        "    self.agent_pos = [0, 0]\n",
        "    self.goal_pos = [3, 3]\n",
        "    self.state = np.zeros((4, 4))\n",
        "    self.state[tuple(self.agent_pos)] = 1\n",
        "    self.state[tuple(self.goal_pos)] = 0.5\n",
        "    observation = self.state.flatten()\n",
        "    return observation\n",
        "\n",
        "  def step(self, action):\n",
        "\n",
        "    if self.stochasticity != 1:\n",
        "      action = self.get_action_random(action)\n",
        "\n",
        "    current_pos = cp.deepcopy(self.agent_pos)\n",
        "\n",
        "    if action == 0: # Go left\n",
        "      self.agent_pos[0] -= 1\n",
        "    if action == 1: # Go up\n",
        "      self.agent_pos[1] -= 1\n",
        "    if action == 2: # Go right\n",
        "      self.agent_pos[0] += 1\n",
        "    if action == 3: # Go down\n",
        "      self.agent_pos[1] += 1\n",
        "    \n",
        "    self.agent_pos = list(np.clip(self.agent_pos, 0, 3))\n",
        "    future_pos = self.agent_pos\n",
        "    self.state = np.zeros((4,4))\n",
        "    self.state[tuple(self.agent_pos)] = 1\n",
        "    self.state[tuple(self.goal_pos)] = 0.5\n",
        "    observation = self.state.flatten()\n",
        "\n",
        "    reward = self.get_reward(current_pos, future_pos)\n",
        "\n",
        "    self.timestep += 1\n",
        "    done = True if self.timestep >= self.max_timesteps or self.agent_pos == self.goal_pos else False\n",
        "    info = {}\n",
        "\n",
        "    return observation, reward, done, info, action\n",
        "\n",
        "  # the reward is calculated on the basis of the distance of the\n",
        "  # current_pos and future_pos of the agent from the goal_pos\n",
        "  def get_reward(self, current_pos, future_pos):\n",
        "\n",
        "    current_dist = self.distance_from_goal(current_pos)\n",
        "    final_dist = self.distance_from_goal(future_pos)\n",
        "\n",
        "    if final_dist < current_dist:\n",
        "      return 1\n",
        "    else:\n",
        "      return -1\n",
        "  \n",
        "  def distance_from_goal(self, pos):\n",
        "    x_final, y_final = self.goal_pos\n",
        "    x, y = pos\n",
        "    return math.sqrt( (y_final - y)**2 + (x_final - x)**2 )\n",
        "\n",
        "  def get_action_random(self, action):\n",
        "    if action == 1:\n",
        "      return 3\n",
        "    else:\n",
        "      return action\n",
        "      \n",
        "\n",
        "  # https://stackoverflow.com/questions/25698448/how-to-embed-html-into-ipython-output\n",
        "  # https://stackoverflow.com/questions/55562088/open-base64-string-image-in-jupyter-notebook-without-saving\n",
        "  # https://stackoverflow.com/questions/49015957/how-to-get-python-graph-output-into-html-webpage-directly\n",
        "  # https://star-ai.github.io/Rendering-OpenAi-Gym-in-Colaboratory/\n",
        "  def render(self):\n",
        "    plt.figure()\n",
        "    # plt.imshow(self.state)\n",
        "    img = io.BytesIO()\n",
        "    plt.imsave(img, self.state)\n",
        "    img.seek(0)\n",
        "    img_val = img.getvalue()\n",
        "    # print(img_val)\n",
        "    encoded_image = b64encode(img_val)\n",
        "    my_html = '<img height=\"225px\" width=\"300px\" src=\"data:image/png;base64, {}\">'.format(encoded_image.decode('utf-8'))\n",
        "    display(HTML('<h1>' + my_html + '</h1>'))"
      ]
    },
    {
      "cell_type": "markdown",
      "metadata": {
        "id": "zdFVrOh28LUK"
      },
      "source": [
        "The following function returns the action the agent 🤖 will take"
      ]
    },
    {
      "cell_type": "code",
      "execution_count": 35,
      "metadata": {
        "colab": {
          "base_uri": "https://localhost:8080/",
          "height": 289
        },
        "id": "wi0wRi41vVCL",
        "outputId": "c95342dc-82b6-408e-d335-26fc444c789e"
      },
      "outputs": [
        {
          "data": {
            "text/html": [
              "<h1><img height=\"225px\" width=\"300px\" src=\"data:image/png;base64, iVBORw0KGgoAAAANSUhEUgAAAAQAAAAECAYAAACp8Z5+AAAAOXRFWHRTb2Z0d2FyZQBNYXRwbG90bGliIHZlcnNpb24zLjUuMSwgaHR0cHM6Ly9tYXRwbG90bGliLm9yZy/YYfK9AAAACXBIWXMAAA9hAAAPYQGoP6dpAAAAI0lEQVR4nGP8+1zlv7uUAQMMMCFzGBgYGJgY0ACKwJ1+CwYADKYF1DdR0CEAAAAASUVORK5CYII=\"></h1>"
            ],
            "text/plain": [
              "<IPython.core.display.HTML object>"
            ]
          },
          "metadata": {},
          "output_type": "display_data"
        },
        {
          "data": {
            "text/plain": [
              "<Figure size 432x288 with 0 Axes>"
            ]
          },
          "metadata": {},
          "output_type": "display_data"
        }
      ],
      "source": [
        "stochasticity = 1.0\n",
        "max_timesteps = 15\n",
        "observation_space = 16\n",
        "action_space = 4\n",
        "max_timesteps = 10\n",
        "\n",
        "env = GridEnvironment(observation_space, action_space, max_timesteps, stochasticity=1)\n",
        "obs = env.reset()\n",
        "env.render()"
      ]
    },
    {
      "cell_type": "code",
      "execution_count": 36,
      "metadata": {
        "id": "9H6KtQIw8MCh"
      },
      "outputs": [],
      "source": [
        "def get_action():\n",
        "    return np.random.choice(env.action_space.n)\n",
        "\n",
        "def one_hot(x, depth=16):\n",
        "  return np.take(np.eye(depth), x, axis=0).astype(np.float32)\n",
        "\n",
        "def get_state_from_position(pos):\n",
        "    X, Y = env.state.shape\n",
        "    pos_x, pos_y = pos\n",
        "    return Y * pos_x + pos_y"
      ]
    },
    {
      "cell_type": "code",
      "execution_count": 37,
      "metadata": {
        "id": "tZbvqvGT8Sic"
      },
      "outputs": [],
      "source": [
        "import numpy as np\n",
        "import torch\n",
        "\n",
        "\n",
        "# l1 = 16 as it will receive the one hot encoded observation space\n",
        "l1 = 16\n",
        "l2 = 150\n",
        "l3 = 100\n",
        "l4 = 4\n",
        "model = torch.nn.Sequential(\n",
        "  torch.nn.Linear(l1, l2),\n",
        "  torch.nn.ReLU(),\n",
        "  torch.nn.Linear(l2, l3),\n",
        "  torch.nn.ReLU(),\n",
        "  torch.nn.Linear(l3,l4)\n",
        ")\n",
        "if torch.cuda.is_available():\n",
        "  model = model.cuda()\n",
        "loss_fn = torch.nn.MSELoss()\n",
        "learning_rate = 1e-3\n",
        "optimizer = torch.optim.Adam(model.parameters(), lr=learning_rate)\n",
        "gamma = 0.9"
      ]
    },
    {
      "cell_type": "code",
      "execution_count": 39,
      "metadata": {
        "colab": {
          "base_uri": "https://localhost:8080/",
          "height": 368
        },
        "id": "DRxpPvVom878",
        "outputId": "8ddc8144-f17d-401e-b3f0-7dc02f4eccfa"
      },
      "outputs": [
        {
          "name": "stderr",
          "output_type": "stream",
          "text": [
            "  0%|          | 0/2000 [00:00<?, ?it/s]D:\\Anaconda3\\envs\\flask_env\\lib\\site-packages\\numpy\\lib\\function_base.py:380: RuntimeWarning: Mean of empty slice.\n",
            "  avg = a.mean(axis)\n",
            "D:\\Anaconda3\\envs\\flask_env\\lib\\site-packages\\numpy\\core\\_methods.py:189: RuntimeWarning: invalid value encountered in double_scalars\n",
            "  ret = ret.dtype.type(ret / rcount)\n",
            "100%|██████████| 2000/2000 [05:33<00:00,  5.99it/s, loss=2.05]\n"
          ]
        }
      ],
      "source": [
        "batch_length = 5\n",
        "\n",
        "epsilon = 1.0\n",
        "epochs = 2000\n",
        "losses = list()\n",
        "mem_size = 1000 * batch_length                                                            \n",
        "batch_size = 200 * batch_length                                                                   \n",
        "# replay = deque(maxlen=mem_size)\n",
        "replay = np.array(list(), dtype=np.int32)\n",
        "max_moves = 50                                                                 \n",
        "h = 0\n",
        "rate_of_decay = 10**(-8/epochs)\n",
        "epsilon_list = list()\n",
        "epsilon_list.append(epsilon)\n",
        "tot_reward_list = list()\n",
        "\n",
        "\n",
        "debug = True\n",
        "\n",
        "t = trange(epochs)\n",
        "\n",
        "for i in t:\n",
        "  env.reset()\n",
        "\n",
        "  completed = False\n",
        "\n",
        "  loss_ep = list()\n",
        "\n",
        "  tot_reward = 0\n",
        "\n",
        "  while not completed:\n",
        "\n",
        "    current_state = get_state_from_position(env.agent_pos)\n",
        "    current_state_oh = one_hot(current_state)\n",
        "    current_state_oh = torch.from_numpy(current_state_oh).cuda()\n",
        "    qval = model(current_state_oh)                                                   \n",
        "    qval_ = qval.data.cpu().numpy()\n",
        "\n",
        "    if (random.random() < epsilon):                                       \n",
        "      current_action = get_action()\n",
        "    else:\n",
        "      current_action = np.argmax(qval_)\n",
        "\n",
        "    future_state = get_state_from_position(env.agent_pos)\n",
        "    observation, reward, done, info, action = env.step(current_action)\n",
        "\n",
        "    tot_reward+=reward\n",
        "    \n",
        "    record = np.array([current_state, current_action, reward, future_state, done])\n",
        "    \n",
        "    if len(replay) >= mem_size:\n",
        "      while(len(replay)<mem_size):\n",
        "        replay = np.delete(replay, replay[0:5], axis=0)\n",
        "    if len(replay) < mem_size: \n",
        "      replay = np.append(replay, record, axis=0)\n",
        "  \n",
        "\n",
        "    if len(replay) >= batch_size:\n",
        "      rng = np.random.default_rng()\n",
        "      minibatch = np.reshape(replay, (len(replay)// batch_length, batch_length))\n",
        "      minibatch = rng.choice(minibatch, batch_size)\n",
        "      \n",
        "      action_ = list()\n",
        "      reward_ = list()\n",
        "      done_ = list()\n",
        "      state1_ = list()\n",
        "      state2_ = list()\n",
        "\n",
        "      for val in minibatch:\n",
        "        \n",
        "        state1_.append(one_hot(val[0]))\n",
        "\n",
        "        action_.append(val[1])\n",
        "        \n",
        "        reward_.append(val[2])\n",
        "        \n",
        "        state2_.append(one_hot(val[3]))\n",
        "        \n",
        "        done_.append(val[4])\n",
        "        \n",
        "      \n",
        "      action_ = np.array(action_)\n",
        "      reward_ = np.array(reward_)\n",
        "      done_ = np.array(done_)\n",
        "      state1_ = np.array(state1_)\n",
        "      state2_ = np.array(state2_)\n",
        "\n",
        "      state1_batch = torch.from_numpy(state1_).cuda()\n",
        "      action_batch = torch.from_numpy(action_).cuda()\n",
        "      reward_batch = torch.from_numpy(reward_).cuda()\n",
        "      state2_batch = torch.from_numpy(state2_).cuda()\n",
        "      done_batch = torch.from_numpy(done_).cuda()\n",
        "      \n",
        "      Q1 = model(state1_batch)                                           \n",
        "      with torch.no_grad():\n",
        "          Q2 = model(state2_batch)                                      \n",
        "      \n",
        "      Y = reward_batch + gamma * ((1 - done_batch) * torch.max(Q2,dim=1)[0])\n",
        "      X = Q1.gather(dim=1,index=action_batch.long().unsqueeze(dim=1)).squeeze()\n",
        "      loss = loss_fn(X, Y.detach())\n",
        "      optimizer.zero_grad()\n",
        "      loss.backward()\n",
        "      loss_ep.append(loss.item())\n",
        "      optimizer.step() \n",
        "\n",
        "    completed = True if done else False\n",
        "  epsilon = epsilon*rate_of_decay\n",
        "  epsilon_list.append(epsilon)\n",
        "  tot_reward_list.append(tot_reward)\n",
        "  if(len(loss_ep)==0):\n",
        "    losses.append(float('inf'))\n",
        "  else:\n",
        "    losses.append(np.average(loss_ep))\n",
        "  t.set_postfix(loss=np.average(loss_ep))\n",
        "\n",
        "losses = np.array(losses)"
      ]
    },
    {
      "cell_type": "code",
      "execution_count": 55,
      "metadata": {},
      "outputs": [
        {
          "data": {
            "text/plain": [
              "<matplotlib.legend.Legend at 0x2164bb20348>"
            ]
          },
          "execution_count": 55,
          "metadata": {},
          "output_type": "execute_result"
        },
        {
          "data": {
            "image/png": "[encoded data removed]",
            "text/plain": [
              "<Figure size 432x288 with 1 Axes>"
            ]
          },
          "metadata": {
            "needs_background": "light"
          },
          "output_type": "display_data"
        }
      ],
      "source": [
        "plt.title(\"Loss Per Episode\")\n",
        "plt.xlabel(\"Epochs\")\n",
        "plt.ylabel(\"Loss\")\n",
        "plt.plot(range(len(losses)), losses, label = 'Loss per Episode')\n",
        "# plt.plot(range(10), rewards[:, 5, 1], label = 'Cumulative Reward per episode')\n",
        "plt.legend()"
      ]
    },
    {
      "cell_type": "code",
      "execution_count": 56,
      "metadata": {},
      "outputs": [
        {
          "data": {
            "text/plain": [
              "<matplotlib.legend.Legend at 0x2164ede5708>"
            ]
          },
          "execution_count": 56,
          "metadata": {},
          "output_type": "execute_result"
        },
        {
          "data": {
            "image/png": "[encoded data removed]",
            "text/plain": [
              "<Figure size 432x288 with 1 Axes>"
            ]
          },
          "metadata": {
            "needs_background": "light"
          },
          "output_type": "display_data"
        }
      ],
      "source": [
        "plt.title(\"Reward Per Episode\")\n",
        "plt.xlabel(\"Epochs\")\n",
        "plt.ylabel(\"Reward\")\n",
        "plt.scatter(range(len(tot_reward_list)), tot_reward_list, label = 'Total Reward per Episode')\n",
        "# plt.plot(range(10), rewards[:, 5, 1], label = 'Cumulative Reward per episode')\n",
        "plt.legend()"
      ]
    },
    {
      "cell_type": "code",
      "execution_count": 54,
      "metadata": {},
      "outputs": [
        {
          "data": {
            "text/plain": [
              "<matplotlib.legend.Legend at 0x2164ba9d308>"
            ]
          },
          "execution_count": 54,
          "metadata": {},
          "output_type": "execute_result"
        },
        {
          "data": {
            "image/png": "[encoded data removed]",
            "text/plain": [
              "<Figure size 432x288 with 1 Axes>"
            ]
          },
          "metadata": {
            "needs_background": "light"
          },
          "output_type": "display_data"
        }
      ],
      "source": [
        "plt.title(\"Epsilon Per Episode\")\n",
        "plt.xlabel(\"Epochs\")\n",
        "plt.ylabel(\"Epsilon\")\n",
        "plt.plot(range(len(epsilon_list)), epsilon_list, label = 'Epsilon per Episode')\n",
        "# plt.plot(range(10), rewards[:, 5, 1], label = 'Cumulative Reward per episode')\n",
        "plt.legend()"
      ]
    },
    {
      "cell_type": "code",
      "execution_count": 40,
      "metadata": {},
      "outputs": [],
      "source": [
        "rewards_list = list()\n",
        "\n",
        "for i in range(10):  \n",
        "  env.reset()\n",
        "\n",
        "  completed = False\n",
        "\n",
        "  reward_list = list()\n",
        "\n",
        "  tot_reward = 0\n",
        "\n",
        "  cum_reward = 0\n",
        "\n",
        "  steps = 0\n",
        "\n",
        "  loss_ep = list()\n",
        "\n",
        "  while not completed:\n",
        "\n",
        "    current_state = get_state_from_position(env.agent_pos)\n",
        "    current_state_oh = one_hot(current_state)\n",
        "    current_state_oh = torch.from_numpy(current_state_oh).cuda()\n",
        "    with torch.no_grad():\n",
        "      qval = model(current_state_oh)                                                   \n",
        "    \n",
        "    qval_ = qval.data.cpu().numpy()\n",
        "    \n",
        "    current_action = np.argmax(qval_)\n",
        "\n",
        "    # future_state = get_state_from_position(env.agent_pos)\n",
        "    observation, reward, done, info, action = env.step(current_action)\n",
        "\n",
        "    tot_reward += reward\n",
        "\n",
        "    cum_reward += pow(gamma, steps)*reward\n",
        "\n",
        "    reward_list.append([tot_reward, cum_reward])\n",
        "\n",
        "    steps += 1\n",
        "\n",
        "    completed = True if done else False\n",
        "\n",
        "  rewards_list.append(reward_list)"
      ]
    },
    {
      "cell_type": "code",
      "execution_count": 49,
      "metadata": {},
      "outputs": [
        {
          "data": {
            "text/plain": [
              "<matplotlib.legend.Legend at 0x2160027a0c8>"
            ]
          },
          "execution_count": 49,
          "metadata": {},
          "output_type": "execute_result"
        },
        {
          "data": {
            "image/png": "[encoded data removed]",
            "text/plain": [
              "<Figure size 432x288 with 1 Axes>"
            ]
          },
          "metadata": {
            "needs_background": "light"
          },
          "output_type": "display_data"
        }
      ],
      "source": [
        "rewards = np.array(rewards_list)\n",
        "\n",
        "plt.title(\"Reward Per Episode\")\n",
        "plt.xlabel(\"Step\")\n",
        "plt.ylabel(\"Reward\")\n",
        "plt.plot(range(10), rewards[:,  5, 0], label = 'Total Reward per Episode')\n",
        "plt.plot(range(10), rewards[:, 5, 1], label = 'Cumulative Reward per episode')\n",
        "plt.legend()"
      ]
    },
    {
      "cell_type": "code",
      "execution_count": 48,
      "metadata": {},
      "outputs": [],
      "source": [
        "# np.array(rewards_list)"
      ]
    },
    {
      "cell_type": "code",
      "execution_count": null,
      "metadata": {},
      "outputs": [],
      "source": []
    }
  ],
  "metadata": {
    "colab": {
      "collapsed_sections": [
        "HmtgbWohzhMw"
      ],
      "name": "RL-Assignment-2.ipynb",
      "provenance": []
    },
    "interpreter": {
      "hash": "7c3b01d34565c9fdde920b12ba7e9f817cc93765a4c91bd25da05fa7939268b5"
    },
    "kernelspec": {
      "display_name": "Python 3.8.12 ('pytorch_env')",
      "language": "python",
      "name": "python3"
    },
    "language_info": {
      "codemirror_mode": {
        "name": "ipython",
        "version": 3
      },
      "file_extension": ".py",
      "mimetype": "text/x-python",
      "name": "python",
      "nbconvert_exporter": "python",
      "pygments_lexer": "ipython3",
      "version": "3.7.11"
    },
    "orig_nbformat": 4
  },
  "nbformat": 4,
  "nbformat_minor": 0
}
