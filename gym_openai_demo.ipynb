{
  "cells": [
    {
      "cell_type": "code",
      "execution_count": null,
      "metadata": {
        "colab": {
          "base_uri": "https://localhost:8080/"
        },
        "id": "ZUNJLneUYqDe",
        "outputId": "80616a23-0098-4b34-8618-080ef7e6fc03"
      },
      "outputs": [
        {
          "name": "stdout",
          "output_type": "stream",
          "text": [
            "Requirement already satisfied: gym in /usr/local/lib/python3.7/dist-packages (0.17.3)\n",
            "Requirement already satisfied: cloudpickle<1.7.0,>=1.2.0 in /usr/local/lib/python3.7/dist-packages (from gym) (1.3.0)\n",
            "Requirement already satisfied: pyglet<=1.5.0,>=1.4.0 in /usr/local/lib/python3.7/dist-packages (from gym) (1.5.0)\n",
            "Requirement already satisfied: scipy in /usr/local/lib/python3.7/dist-packages (from gym) (1.4.1)\n",
            "Requirement already satisfied: numpy>=1.10.4 in /usr/local/lib/python3.7/dist-packages (from gym) (1.21.5)\n",
            "Requirement already satisfied: future in /usr/local/lib/python3.7/dist-packages (from pyglet<=1.5.0,>=1.4.0->gym) (0.16.0)\n"
          ]
        }
      ],
      "source": [
        "!pip install gym"
      ]
    },
    {
      "cell_type": "code",
      "execution_count": null,
      "metadata": {
        "colab": {
          "base_uri": "https://localhost:8080/"
        },
        "id": "ztJPyN7gZLy1",
        "outputId": "1375d63c-9c8e-4d34-c5d9-cf2fbd7269e3"
      },
      "outputs": [
        {
          "name": "stdout",
          "output_type": "stream",
          "text": [
            "Reading package lists... Done\n",
            "Building dependency tree       \n",
            "Reading state information... Done\n",
            "Suggested packages:\n",
            "  libgle3\n",
            "The following NEW packages will be installed:\n",
            "  python-opengl\n",
            "0 upgraded, 1 newly installed, 0 to remove and 39 not upgraded.\n",
            "Need to get 496 kB of archives.\n",
            "After this operation, 5,416 kB of additional disk space will be used.\n",
            "Get:1 http://archive.ubuntu.com/ubuntu bionic/universe amd64 python-opengl all 3.1.0+dfsg-1 [496 kB]\n",
            "Fetched 496 kB in 1s (555 kB/s)\n",
            "Selecting previously unselected package python-opengl.\n",
            "(Reading database ... 155335 files and directories currently installed.)\n",
            "Preparing to unpack .../python-opengl_3.1.0+dfsg-1_all.deb ...\n",
            "Unpacking python-opengl (3.1.0+dfsg-1) ...\n",
            "Setting up python-opengl (3.1.0+dfsg-1) ...\n",
            "Reading package lists... Done\n",
            "Building dependency tree       \n",
            "Reading state information... Done\n",
            "The following NEW packages will be installed:\n",
            "  xvfb\n",
            "0 upgraded, 1 newly installed, 0 to remove and 39 not upgraded.\n",
            "Need to get 784 kB of archives.\n",
            "After this operation, 2,271 kB of additional disk space will be used.\n",
            "Get:1 http://archive.ubuntu.com/ubuntu bionic-updates/universe amd64 xvfb amd64 2:1.19.6-1ubuntu4.10 [784 kB]\n",
            "Fetched 784 kB in 1s (822 kB/s)\n",
            "Selecting previously unselected package xvfb.\n",
            "(Reading database ... 157690 files and directories currently installed.)\n",
            "Preparing to unpack .../xvfb_2%3a1.19.6-1ubuntu4.10_amd64.deb ...\n",
            "Unpacking xvfb (2:1.19.6-1ubuntu4.10) ...\n",
            "Setting up xvfb (2:1.19.6-1ubuntu4.10) ...\n",
            "Processing triggers for man-db (2.8.3-2ubuntu0.1) ...\n",
            "Collecting pyvirtualdisplay\n",
            "  Downloading PyVirtualDisplay-3.0-py3-none-any.whl (15 kB)\n",
            "Installing collected packages: pyvirtualdisplay\n",
            "Successfully installed pyvirtualdisplay-3.0\n",
            "Collecting piglet\n",
            "  Downloading piglet-1.0.0-py2.py3-none-any.whl (2.2 kB)\n",
            "Collecting piglet-templates\n",
            "  Downloading piglet_templates-1.2.0-py3-none-any.whl (67 kB)\n",
            "\u001b[K     |████████████████████████████████| 67 kB 3.0 MB/s \n",
            "\u001b[?25hRequirement already satisfied: markupsafe in /usr/local/lib/python3.7/dist-packages (from piglet-templates->piglet) (2.0.1)\n",
            "Requirement already satisfied: astunparse in /usr/local/lib/python3.7/dist-packages (from piglet-templates->piglet) (1.6.3)\n",
            "Requirement already satisfied: pyparsing in /usr/local/lib/python3.7/dist-packages (from piglet-templates->piglet) (3.0.7)\n",
            "Requirement already satisfied: attrs in /usr/local/lib/python3.7/dist-packages (from piglet-templates->piglet) (21.4.0)\n",
            "Requirement already satisfied: six<2.0,>=1.6.1 in /usr/local/lib/python3.7/dist-packages (from astunparse->piglet-templates->piglet) (1.15.0)\n",
            "Requirement already satisfied: wheel<1.0,>=0.23.0 in /usr/local/lib/python3.7/dist-packages (from astunparse->piglet-templates->piglet) (0.37.1)\n",
            "Installing collected packages: piglet-templates, piglet\n",
            "Successfully installed piglet-1.0.0 piglet-templates-1.2.0\n"
          ]
        }
      ],
      "source": [
        "!apt-get install python-opengl -y\n",
        "!apt install xvfb -y\n",
        "!pip install pyvirtualdisplay\n",
        "!pip install piglet"
      ]
    },
    {
      "cell_type": "code",
      "execution_count": null,
      "metadata": {
        "id": "vBnztBdiYqss"
      },
      "outputs": [],
      "source": [
        "import gym\n",
        "import matplotlib.pyplot as plt\n",
        "from gym import wrappers\n",
        "%matplotlib inline"
      ]
    },
    {
      "cell_type": "code",
      "execution_count": null,
      "metadata": {
        "colab": {
          "base_uri": "https://localhost:8080/"
        },
        "id": "w56mONcjYsN3",
        "outputId": "57775ddc-76d6-4f7f-fe4c-a2c654270e0d"
      },
      "outputs": [
        {
          "name": "stdout",
          "output_type": "stream",
          "text": [
            "EnvSpec(Copy-v0)\n",
            "EnvSpec(RepeatCopy-v0)\n",
            "EnvSpec(ReversedAddition-v0)\n",
            "EnvSpec(ReversedAddition3-v0)\n",
            "EnvSpec(DuplicatedInput-v0)\n",
            "EnvSpec(Reverse-v0)\n",
            "EnvSpec(CartPole-v0)\n",
            "EnvSpec(CartPole-v1)\n",
            "EnvSpec(MountainCar-v0)\n",
            "EnvSpec(MountainCarContinuous-v0)\n",
            "EnvSpec(Pendulum-v0)\n",
            "EnvSpec(Acrobot-v1)\n",
            "EnvSpec(LunarLander-v2)\n",
            "EnvSpec(LunarLanderContinuous-v2)\n",
            "EnvSpec(BipedalWalker-v3)\n",
            "EnvSpec(BipedalWalkerHardcore-v3)\n",
            "EnvSpec(CarRacing-v0)\n",
            "EnvSpec(Blackjack-v0)\n",
            "EnvSpec(KellyCoinflip-v0)\n",
            "EnvSpec(KellyCoinflipGeneralized-v0)\n",
            "EnvSpec(FrozenLake-v0)\n",
            "EnvSpec(FrozenLake8x8-v0)\n",
            "EnvSpec(CliffWalking-v0)\n",
            "EnvSpec(NChain-v0)\n",
            "EnvSpec(Roulette-v0)\n",
            "EnvSpec(Taxi-v3)\n",
            "EnvSpec(GuessingGame-v0)\n",
            "EnvSpec(HotterColder-v0)\n",
            "EnvSpec(Reacher-v2)\n",
            "EnvSpec(Pusher-v2)\n",
            "EnvSpec(Thrower-v2)\n",
            "EnvSpec(Striker-v2)\n",
            "EnvSpec(InvertedPendulum-v2)\n",
            "EnvSpec(InvertedDoublePendulum-v2)\n",
            "EnvSpec(HalfCheetah-v2)\n",
            "EnvSpec(HalfCheetah-v3)\n",
            "EnvSpec(Hopper-v2)\n",
            "EnvSpec(Hopper-v3)\n",
            "EnvSpec(Swimmer-v2)\n",
            "EnvSpec(Swimmer-v3)\n",
            "EnvSpec(Walker2d-v2)\n",
            "EnvSpec(Walker2d-v3)\n",
            "EnvSpec(Ant-v2)\n",
            "EnvSpec(Ant-v3)\n",
            "EnvSpec(Humanoid-v2)\n",
            "EnvSpec(Humanoid-v3)\n",
            "EnvSpec(HumanoidStandup-v2)\n",
            "EnvSpec(FetchSlide-v1)\n",
            "EnvSpec(FetchPickAndPlace-v1)\n",
            "EnvSpec(FetchReach-v1)\n",
            "EnvSpec(FetchPush-v1)\n",
            "EnvSpec(HandReach-v0)\n",
            "EnvSpec(HandManipulateBlockRotateZ-v0)\n",
            "EnvSpec(HandManipulateBlockRotateZTouchSensors-v0)\n",
            "EnvSpec(HandManipulateBlockRotateZTouchSensors-v1)\n",
            "EnvSpec(HandManipulateBlockRotateParallel-v0)\n",
            "EnvSpec(HandManipulateBlockRotateParallelTouchSensors-v0)\n",
            "EnvSpec(HandManipulateBlockRotateParallelTouchSensors-v1)\n",
            "EnvSpec(HandManipulateBlockRotateXYZ-v0)\n",
            "EnvSpec(HandManipulateBlockRotateXYZTouchSensors-v0)\n",
            "EnvSpec(HandManipulateBlockRotateXYZTouchSensors-v1)\n",
            "EnvSpec(HandManipulateBlockFull-v0)\n",
            "EnvSpec(HandManipulateBlock-v0)\n",
            "EnvSpec(HandManipulateBlockTouchSensors-v0)\n",
            "EnvSpec(HandManipulateBlockTouchSensors-v1)\n",
            "EnvSpec(HandManipulateEggRotate-v0)\n",
            "EnvSpec(HandManipulateEggRotateTouchSensors-v0)\n",
            "EnvSpec(HandManipulateEggRotateTouchSensors-v1)\n",
            "EnvSpec(HandManipulateEggFull-v0)\n",
            "EnvSpec(HandManipulateEgg-v0)\n",
            "EnvSpec(HandManipulateEggTouchSensors-v0)\n",
            "EnvSpec(HandManipulateEggTouchSensors-v1)\n",
            "EnvSpec(HandManipulatePenRotate-v0)\n",
            "EnvSpec(HandManipulatePenRotateTouchSensors-v0)\n",
            "EnvSpec(HandManipulatePenRotateTouchSensors-v1)\n",
            "EnvSpec(HandManipulatePenFull-v0)\n",
            "EnvSpec(HandManipulatePen-v0)\n",
            "EnvSpec(HandManipulatePenTouchSensors-v0)\n",
            "EnvSpec(HandManipulatePenTouchSensors-v1)\n",
            "EnvSpec(FetchSlideDense-v1)\n",
            "EnvSpec(FetchPickAndPlaceDense-v1)\n",
            "EnvSpec(FetchReachDense-v1)\n",
            "EnvSpec(FetchPushDense-v1)\n",
            "EnvSpec(HandReachDense-v0)\n",
            "EnvSpec(HandManipulateBlockRotateZDense-v0)\n",
            "EnvSpec(HandManipulateBlockRotateZTouchSensorsDense-v0)\n",
            "EnvSpec(HandManipulateBlockRotateZTouchSensorsDense-v1)\n",
            "EnvSpec(HandManipulateBlockRotateParallelDense-v0)\n",
            "EnvSpec(HandManipulateBlockRotateParallelTouchSensorsDense-v0)\n",
            "EnvSpec(HandManipulateBlockRotateParallelTouchSensorsDense-v1)\n",
            "EnvSpec(HandManipulateBlockRotateXYZDense-v0)\n",
            "EnvSpec(HandManipulateBlockRotateXYZTouchSensorsDense-v0)\n",
            "EnvSpec(HandManipulateBlockRotateXYZTouchSensorsDense-v1)\n",
            "EnvSpec(HandManipulateBlockFullDense-v0)\n",
            "EnvSpec(HandManipulateBlockDense-v0)\n",
            "EnvSpec(HandManipulateBlockTouchSensorsDense-v0)\n",
            "EnvSpec(HandManipulateBlockTouchSensorsDense-v1)\n",
            "EnvSpec(HandManipulateEggRotateDense-v0)\n",
            "EnvSpec(HandManipulateEggRotateTouchSensorsDense-v0)\n",
            "EnvSpec(HandManipulateEggRotateTouchSensorsDense-v1)\n",
            "EnvSpec(HandManipulateEggFullDense-v0)\n",
            "EnvSpec(HandManipulateEggDense-v0)\n",
            "EnvSpec(HandManipulateEggTouchSensorsDense-v0)\n",
            "EnvSpec(HandManipulateEggTouchSensorsDense-v1)\n",
            "EnvSpec(HandManipulatePenRotateDense-v0)\n",
            "EnvSpec(HandManipulatePenRotateTouchSensorsDense-v0)\n",
            "EnvSpec(HandManipulatePenRotateTouchSensorsDense-v1)\n",
            "EnvSpec(HandManipulatePenFullDense-v0)\n",
            "EnvSpec(HandManipulatePenDense-v0)\n",
            "EnvSpec(HandManipulatePenTouchSensorsDense-v0)\n",
            "EnvSpec(HandManipulatePenTouchSensorsDense-v1)\n",
            "EnvSpec(Adventure-v0)\n",
            "EnvSpec(Adventure-v4)\n",
            "EnvSpec(AdventureDeterministic-v0)\n",
            "EnvSpec(AdventureDeterministic-v4)\n",
            "EnvSpec(AdventureNoFrameskip-v0)\n",
            "EnvSpec(AdventureNoFrameskip-v4)\n",
            "EnvSpec(Adventure-ram-v0)\n",
            "EnvSpec(Adventure-ram-v4)\n",
            "EnvSpec(Adventure-ramDeterministic-v0)\n",
            "EnvSpec(Adventure-ramDeterministic-v4)\n",
            "EnvSpec(Adventure-ramNoFrameskip-v0)\n",
            "EnvSpec(Adventure-ramNoFrameskip-v4)\n",
            "EnvSpec(AirRaid-v0)\n",
            "EnvSpec(AirRaid-v4)\n",
            "EnvSpec(AirRaidDeterministic-v0)\n",
            "EnvSpec(AirRaidDeterministic-v4)\n",
            "EnvSpec(AirRaidNoFrameskip-v0)\n",
            "EnvSpec(AirRaidNoFrameskip-v4)\n",
            "EnvSpec(AirRaid-ram-v0)\n",
            "EnvSpec(AirRaid-ram-v4)\n",
            "EnvSpec(AirRaid-ramDeterministic-v0)\n",
            "EnvSpec(AirRaid-ramDeterministic-v4)\n",
            "EnvSpec(AirRaid-ramNoFrameskip-v0)\n",
            "EnvSpec(AirRaid-ramNoFrameskip-v4)\n",
            "EnvSpec(Alien-v0)\n",
            "EnvSpec(Alien-v4)\n",
            "EnvSpec(AlienDeterministic-v0)\n",
            "EnvSpec(AlienDeterministic-v4)\n",
            "EnvSpec(AlienNoFrameskip-v0)\n",
            "EnvSpec(AlienNoFrameskip-v4)\n",
            "EnvSpec(Alien-ram-v0)\n",
            "EnvSpec(Alien-ram-v4)\n",
            "EnvSpec(Alien-ramDeterministic-v0)\n",
            "EnvSpec(Alien-ramDeterministic-v4)\n",
            "EnvSpec(Alien-ramNoFrameskip-v0)\n",
            "EnvSpec(Alien-ramNoFrameskip-v4)\n",
            "EnvSpec(Amidar-v0)\n",
            "EnvSpec(Amidar-v4)\n",
            "EnvSpec(AmidarDeterministic-v0)\n",
            "EnvSpec(AmidarDeterministic-v4)\n",
            "EnvSpec(AmidarNoFrameskip-v0)\n",
            "EnvSpec(AmidarNoFrameskip-v4)\n",
            "EnvSpec(Amidar-ram-v0)\n",
            "EnvSpec(Amidar-ram-v4)\n",
            "EnvSpec(Amidar-ramDeterministic-v0)\n",
            "EnvSpec(Amidar-ramDeterministic-v4)\n",
            "EnvSpec(Amidar-ramNoFrameskip-v0)\n",
            "EnvSpec(Amidar-ramNoFrameskip-v4)\n",
            "EnvSpec(Assault-v0)\n",
            "EnvSpec(Assault-v4)\n",
            "EnvSpec(AssaultDeterministic-v0)\n",
            "EnvSpec(AssaultDeterministic-v4)\n",
            "EnvSpec(AssaultNoFrameskip-v0)\n",
            "EnvSpec(AssaultNoFrameskip-v4)\n",
            "EnvSpec(Assault-ram-v0)\n",
            "EnvSpec(Assault-ram-v4)\n",
            "EnvSpec(Assault-ramDeterministic-v0)\n",
            "EnvSpec(Assault-ramDeterministic-v4)\n",
            "EnvSpec(Assault-ramNoFrameskip-v0)\n",
            "EnvSpec(Assault-ramNoFrameskip-v4)\n",
            "EnvSpec(Asterix-v0)\n",
            "EnvSpec(Asterix-v4)\n",
            "EnvSpec(AsterixDeterministic-v0)\n",
            "EnvSpec(AsterixDeterministic-v4)\n",
            "EnvSpec(AsterixNoFrameskip-v0)\n",
            "EnvSpec(AsterixNoFrameskip-v4)\n",
            "EnvSpec(Asterix-ram-v0)\n",
            "EnvSpec(Asterix-ram-v4)\n",
            "EnvSpec(Asterix-ramDeterministic-v0)\n",
            "EnvSpec(Asterix-ramDeterministic-v4)\n",
            "EnvSpec(Asterix-ramNoFrameskip-v0)\n",
            "EnvSpec(Asterix-ramNoFrameskip-v4)\n",
            "EnvSpec(Asteroids-v0)\n",
            "EnvSpec(Asteroids-v4)\n",
            "EnvSpec(AsteroidsDeterministic-v0)\n",
            "EnvSpec(AsteroidsDeterministic-v4)\n",
            "EnvSpec(AsteroidsNoFrameskip-v0)\n",
            "EnvSpec(AsteroidsNoFrameskip-v4)\n",
            "EnvSpec(Asteroids-ram-v0)\n",
            "EnvSpec(Asteroids-ram-v4)\n",
            "EnvSpec(Asteroids-ramDeterministic-v0)\n",
            "EnvSpec(Asteroids-ramDeterministic-v4)\n",
            "EnvSpec(Asteroids-ramNoFrameskip-v0)\n",
            "EnvSpec(Asteroids-ramNoFrameskip-v4)\n",
            "EnvSpec(Atlantis-v0)\n",
            "EnvSpec(Atlantis-v4)\n",
            "EnvSpec(AtlantisDeterministic-v0)\n",
            "EnvSpec(AtlantisDeterministic-v4)\n",
            "EnvSpec(AtlantisNoFrameskip-v0)\n",
            "EnvSpec(AtlantisNoFrameskip-v4)\n",
            "EnvSpec(Atlantis-ram-v0)\n",
            "EnvSpec(Atlantis-ram-v4)\n",
            "EnvSpec(Atlantis-ramDeterministic-v0)\n",
            "EnvSpec(Atlantis-ramDeterministic-v4)\n",
            "EnvSpec(Atlantis-ramNoFrameskip-v0)\n",
            "EnvSpec(Atlantis-ramNoFrameskip-v4)\n",
            "EnvSpec(BankHeist-v0)\n",
            "EnvSpec(BankHeist-v4)\n",
            "EnvSpec(BankHeistDeterministic-v0)\n",
            "EnvSpec(BankHeistDeterministic-v4)\n",
            "EnvSpec(BankHeistNoFrameskip-v0)\n",
            "EnvSpec(BankHeistNoFrameskip-v4)\n",
            "EnvSpec(BankHeist-ram-v0)\n",
            "EnvSpec(BankHeist-ram-v4)\n",
            "EnvSpec(BankHeist-ramDeterministic-v0)\n",
            "EnvSpec(BankHeist-ramDeterministic-v4)\n",
            "EnvSpec(BankHeist-ramNoFrameskip-v0)\n",
            "EnvSpec(BankHeist-ramNoFrameskip-v4)\n",
            "EnvSpec(BattleZone-v0)\n",
            "EnvSpec(BattleZone-v4)\n",
            "EnvSpec(BattleZoneDeterministic-v0)\n",
            "EnvSpec(BattleZoneDeterministic-v4)\n",
            "EnvSpec(BattleZoneNoFrameskip-v0)\n",
            "EnvSpec(BattleZoneNoFrameskip-v4)\n",
            "EnvSpec(BattleZone-ram-v0)\n",
            "EnvSpec(BattleZone-ram-v4)\n",
            "EnvSpec(BattleZone-ramDeterministic-v0)\n",
            "EnvSpec(BattleZone-ramDeterministic-v4)\n",
            "EnvSpec(BattleZone-ramNoFrameskip-v0)\n",
            "EnvSpec(BattleZone-ramNoFrameskip-v4)\n",
            "EnvSpec(BeamRider-v0)\n",
            "EnvSpec(BeamRider-v4)\n",
            "EnvSpec(BeamRiderDeterministic-v0)\n",
            "EnvSpec(BeamRiderDeterministic-v4)\n",
            "EnvSpec(BeamRiderNoFrameskip-v0)\n",
            "EnvSpec(BeamRiderNoFrameskip-v4)\n",
            "EnvSpec(BeamRider-ram-v0)\n",
            "EnvSpec(BeamRider-ram-v4)\n",
            "EnvSpec(BeamRider-ramDeterministic-v0)\n",
            "EnvSpec(BeamRider-ramDeterministic-v4)\n",
            "EnvSpec(BeamRider-ramNoFrameskip-v0)\n",
            "EnvSpec(BeamRider-ramNoFrameskip-v4)\n",
            "EnvSpec(Berzerk-v0)\n",
            "EnvSpec(Berzerk-v4)\n",
            "EnvSpec(BerzerkDeterministic-v0)\n",
            "EnvSpec(BerzerkDeterministic-v4)\n",
            "EnvSpec(BerzerkNoFrameskip-v0)\n",
            "EnvSpec(BerzerkNoFrameskip-v4)\n",
            "EnvSpec(Berzerk-ram-v0)\n",
            "EnvSpec(Berzerk-ram-v4)\n",
            "EnvSpec(Berzerk-ramDeterministic-v0)\n",
            "EnvSpec(Berzerk-ramDeterministic-v4)\n",
            "EnvSpec(Berzerk-ramNoFrameskip-v0)\n",
            "EnvSpec(Berzerk-ramNoFrameskip-v4)\n",
            "EnvSpec(Bowling-v0)\n",
            "EnvSpec(Bowling-v4)\n",
            "EnvSpec(BowlingDeterministic-v0)\n",
            "EnvSpec(BowlingDeterministic-v4)\n",
            "EnvSpec(BowlingNoFrameskip-v0)\n",
            "EnvSpec(BowlingNoFrameskip-v4)\n",
            "EnvSpec(Bowling-ram-v0)\n",
            "EnvSpec(Bowling-ram-v4)\n",
            "EnvSpec(Bowling-ramDeterministic-v0)\n",
            "EnvSpec(Bowling-ramDeterministic-v4)\n",
            "EnvSpec(Bowling-ramNoFrameskip-v0)\n",
            "EnvSpec(Bowling-ramNoFrameskip-v4)\n",
            "EnvSpec(Boxing-v0)\n",
            "EnvSpec(Boxing-v4)\n",
            "EnvSpec(BoxingDeterministic-v0)\n",
            "EnvSpec(BoxingDeterministic-v4)\n",
            "EnvSpec(BoxingNoFrameskip-v0)\n",
            "EnvSpec(BoxingNoFrameskip-v4)\n",
            "EnvSpec(Boxing-ram-v0)\n",
            "EnvSpec(Boxing-ram-v4)\n",
            "EnvSpec(Boxing-ramDeterministic-v0)\n",
            "EnvSpec(Boxing-ramDeterministic-v4)\n",
            "EnvSpec(Boxing-ramNoFrameskip-v0)\n",
            "EnvSpec(Boxing-ramNoFrameskip-v4)\n",
            "EnvSpec(Breakout-v0)\n",
            "EnvSpec(Breakout-v4)\n",
            "EnvSpec(BreakoutDeterministic-v0)\n",
            "EnvSpec(BreakoutDeterministic-v4)\n",
            "EnvSpec(BreakoutNoFrameskip-v0)\n",
            "EnvSpec(BreakoutNoFrameskip-v4)\n",
            "EnvSpec(Breakout-ram-v0)\n",
            "EnvSpec(Breakout-ram-v4)\n",
            "EnvSpec(Breakout-ramDeterministic-v0)\n",
            "EnvSpec(Breakout-ramDeterministic-v4)\n",
            "EnvSpec(Breakout-ramNoFrameskip-v0)\n",
            "EnvSpec(Breakout-ramNoFrameskip-v4)\n",
            "EnvSpec(Carnival-v0)\n",
            "EnvSpec(Carnival-v4)\n",
            "EnvSpec(CarnivalDeterministic-v0)\n",
            "EnvSpec(CarnivalDeterministic-v4)\n",
            "EnvSpec(CarnivalNoFrameskip-v0)\n",
            "EnvSpec(CarnivalNoFrameskip-v4)\n",
            "EnvSpec(Carnival-ram-v0)\n",
            "EnvSpec(Carnival-ram-v4)\n",
            "EnvSpec(Carnival-ramDeterministic-v0)\n",
            "EnvSpec(Carnival-ramDeterministic-v4)\n",
            "EnvSpec(Carnival-ramNoFrameskip-v0)\n",
            "EnvSpec(Carnival-ramNoFrameskip-v4)\n",
            "EnvSpec(Centipede-v0)\n",
            "EnvSpec(Centipede-v4)\n",
            "EnvSpec(CentipedeDeterministic-v0)\n",
            "EnvSpec(CentipedeDeterministic-v4)\n",
            "EnvSpec(CentipedeNoFrameskip-v0)\n",
            "EnvSpec(CentipedeNoFrameskip-v4)\n",
            "EnvSpec(Centipede-ram-v0)\n",
            "EnvSpec(Centipede-ram-v4)\n",
            "EnvSpec(Centipede-ramDeterministic-v0)\n",
            "EnvSpec(Centipede-ramDeterministic-v4)\n",
            "EnvSpec(Centipede-ramNoFrameskip-v0)\n",
            "EnvSpec(Centipede-ramNoFrameskip-v4)\n",
            "EnvSpec(ChopperCommand-v0)\n",
            "EnvSpec(ChopperCommand-v4)\n",
            "EnvSpec(ChopperCommandDeterministic-v0)\n",
            "EnvSpec(ChopperCommandDeterministic-v4)\n",
            "EnvSpec(ChopperCommandNoFrameskip-v0)\n",
            "EnvSpec(ChopperCommandNoFrameskip-v4)\n",
            "EnvSpec(ChopperCommand-ram-v0)\n",
            "EnvSpec(ChopperCommand-ram-v4)\n",
            "EnvSpec(ChopperCommand-ramDeterministic-v0)\n",
            "EnvSpec(ChopperCommand-ramDeterministic-v4)\n",
            "EnvSpec(ChopperCommand-ramNoFrameskip-v0)\n",
            "EnvSpec(ChopperCommand-ramNoFrameskip-v4)\n",
            "EnvSpec(CrazyClimber-v0)\n",
            "EnvSpec(CrazyClimber-v4)\n",
            "EnvSpec(CrazyClimberDeterministic-v0)\n",
            "EnvSpec(CrazyClimberDeterministic-v4)\n",
            "EnvSpec(CrazyClimberNoFrameskip-v0)\n",
            "EnvSpec(CrazyClimberNoFrameskip-v4)\n",
            "EnvSpec(CrazyClimber-ram-v0)\n",
            "EnvSpec(CrazyClimber-ram-v4)\n",
            "EnvSpec(CrazyClimber-ramDeterministic-v0)\n",
            "EnvSpec(CrazyClimber-ramDeterministic-v4)\n",
            "EnvSpec(CrazyClimber-ramNoFrameskip-v0)\n",
            "EnvSpec(CrazyClimber-ramNoFrameskip-v4)\n",
            "EnvSpec(Defender-v0)\n",
            "EnvSpec(Defender-v4)\n",
            "EnvSpec(DefenderDeterministic-v0)\n",
            "EnvSpec(DefenderDeterministic-v4)\n",
            "EnvSpec(DefenderNoFrameskip-v0)\n",
            "EnvSpec(DefenderNoFrameskip-v4)\n",
            "EnvSpec(Defender-ram-v0)\n",
            "EnvSpec(Defender-ram-v4)\n",
            "EnvSpec(Defender-ramDeterministic-v0)\n",
            "EnvSpec(Defender-ramDeterministic-v4)\n",
            "EnvSpec(Defender-ramNoFrameskip-v0)\n",
            "EnvSpec(Defender-ramNoFrameskip-v4)\n",
            "EnvSpec(DemonAttack-v0)\n",
            "EnvSpec(DemonAttack-v4)\n",
            "EnvSpec(DemonAttackDeterministic-v0)\n",
            "EnvSpec(DemonAttackDeterministic-v4)\n",
            "EnvSpec(DemonAttackNoFrameskip-v0)\n",
            "EnvSpec(DemonAttackNoFrameskip-v4)\n",
            "EnvSpec(DemonAttack-ram-v0)\n",
            "EnvSpec(DemonAttack-ram-v4)\n",
            "EnvSpec(DemonAttack-ramDeterministic-v0)\n",
            "EnvSpec(DemonAttack-ramDeterministic-v4)\n",
            "EnvSpec(DemonAttack-ramNoFrameskip-v0)\n",
            "EnvSpec(DemonAttack-ramNoFrameskip-v4)\n",
            "EnvSpec(DoubleDunk-v0)\n",
            "EnvSpec(DoubleDunk-v4)\n",
            "EnvSpec(DoubleDunkDeterministic-v0)\n",
            "EnvSpec(DoubleDunkDeterministic-v4)\n",
            "EnvSpec(DoubleDunkNoFrameskip-v0)\n",
            "EnvSpec(DoubleDunkNoFrameskip-v4)\n",
            "EnvSpec(DoubleDunk-ram-v0)\n",
            "EnvSpec(DoubleDunk-ram-v4)\n",
            "EnvSpec(DoubleDunk-ramDeterministic-v0)\n",
            "EnvSpec(DoubleDunk-ramDeterministic-v4)\n",
            "EnvSpec(DoubleDunk-ramNoFrameskip-v0)\n",
            "EnvSpec(DoubleDunk-ramNoFrameskip-v4)\n",
            "EnvSpec(ElevatorAction-v0)\n",
            "EnvSpec(ElevatorAction-v4)\n",
            "EnvSpec(ElevatorActionDeterministic-v0)\n",
            "EnvSpec(ElevatorActionDeterministic-v4)\n",
            "EnvSpec(ElevatorActionNoFrameskip-v0)\n",
            "EnvSpec(ElevatorActionNoFrameskip-v4)\n",
            "EnvSpec(ElevatorAction-ram-v0)\n",
            "EnvSpec(ElevatorAction-ram-v4)\n",
            "EnvSpec(ElevatorAction-ramDeterministic-v0)\n",
            "EnvSpec(ElevatorAction-ramDeterministic-v4)\n",
            "EnvSpec(ElevatorAction-ramNoFrameskip-v0)\n",
            "EnvSpec(ElevatorAction-ramNoFrameskip-v4)\n",
            "EnvSpec(Enduro-v0)\n",
            "EnvSpec(Enduro-v4)\n",
            "EnvSpec(EnduroDeterministic-v0)\n",
            "EnvSpec(EnduroDeterministic-v4)\n",
            "EnvSpec(EnduroNoFrameskip-v0)\n",
            "EnvSpec(EnduroNoFrameskip-v4)\n",
            "EnvSpec(Enduro-ram-v0)\n",
            "EnvSpec(Enduro-ram-v4)\n",
            "EnvSpec(Enduro-ramDeterministic-v0)\n",
            "EnvSpec(Enduro-ramDeterministic-v4)\n",
            "EnvSpec(Enduro-ramNoFrameskip-v0)\n",
            "EnvSpec(Enduro-ramNoFrameskip-v4)\n",
            "EnvSpec(FishingDerby-v0)\n",
            "EnvSpec(FishingDerby-v4)\n",
            "EnvSpec(FishingDerbyDeterministic-v0)\n",
            "EnvSpec(FishingDerbyDeterministic-v4)\n",
            "EnvSpec(FishingDerbyNoFrameskip-v0)\n",
            "EnvSpec(FishingDerbyNoFrameskip-v4)\n",
            "EnvSpec(FishingDerby-ram-v0)\n",
            "EnvSpec(FishingDerby-ram-v4)\n",
            "EnvSpec(FishingDerby-ramDeterministic-v0)\n",
            "EnvSpec(FishingDerby-ramDeterministic-v4)\n",
            "EnvSpec(FishingDerby-ramNoFrameskip-v0)\n",
            "EnvSpec(FishingDerby-ramNoFrameskip-v4)\n",
            "EnvSpec(Freeway-v0)\n",
            "EnvSpec(Freeway-v4)\n",
            "EnvSpec(FreewayDeterministic-v0)\n",
            "EnvSpec(FreewayDeterministic-v4)\n",
            "EnvSpec(FreewayNoFrameskip-v0)\n",
            "EnvSpec(FreewayNoFrameskip-v4)\n",
            "EnvSpec(Freeway-ram-v0)\n",
            "EnvSpec(Freeway-ram-v4)\n",
            "EnvSpec(Freeway-ramDeterministic-v0)\n",
            "EnvSpec(Freeway-ramDeterministic-v4)\n",
            "EnvSpec(Freeway-ramNoFrameskip-v0)\n",
            "EnvSpec(Freeway-ramNoFrameskip-v4)\n",
            "EnvSpec(Frostbite-v0)\n",
            "EnvSpec(Frostbite-v4)\n",
            "EnvSpec(FrostbiteDeterministic-v0)\n",
            "EnvSpec(FrostbiteDeterministic-v4)\n",
            "EnvSpec(FrostbiteNoFrameskip-v0)\n",
            "EnvSpec(FrostbiteNoFrameskip-v4)\n",
            "EnvSpec(Frostbite-ram-v0)\n",
            "EnvSpec(Frostbite-ram-v4)\n",
            "EnvSpec(Frostbite-ramDeterministic-v0)\n",
            "EnvSpec(Frostbite-ramDeterministic-v4)\n",
            "EnvSpec(Frostbite-ramNoFrameskip-v0)\n",
            "EnvSpec(Frostbite-ramNoFrameskip-v4)\n",
            "EnvSpec(Gopher-v0)\n",
            "EnvSpec(Gopher-v4)\n",
            "EnvSpec(GopherDeterministic-v0)\n",
            "EnvSpec(GopherDeterministic-v4)\n",
            "EnvSpec(GopherNoFrameskip-v0)\n",
            "EnvSpec(GopherNoFrameskip-v4)\n",
            "EnvSpec(Gopher-ram-v0)\n",
            "EnvSpec(Gopher-ram-v4)\n",
            "EnvSpec(Gopher-ramDeterministic-v0)\n",
            "EnvSpec(Gopher-ramDeterministic-v4)\n",
            "EnvSpec(Gopher-ramNoFrameskip-v0)\n",
            "EnvSpec(Gopher-ramNoFrameskip-v4)\n",
            "EnvSpec(Gravitar-v0)\n",
            "EnvSpec(Gravitar-v4)\n",
            "EnvSpec(GravitarDeterministic-v0)\n",
            "EnvSpec(GravitarDeterministic-v4)\n",
            "EnvSpec(GravitarNoFrameskip-v0)\n",
            "EnvSpec(GravitarNoFrameskip-v4)\n",
            "EnvSpec(Gravitar-ram-v0)\n",
            "EnvSpec(Gravitar-ram-v4)\n",
            "EnvSpec(Gravitar-ramDeterministic-v0)\n",
            "EnvSpec(Gravitar-ramDeterministic-v4)\n",
            "EnvSpec(Gravitar-ramNoFrameskip-v0)\n",
            "EnvSpec(Gravitar-ramNoFrameskip-v4)\n",
            "EnvSpec(Hero-v0)\n",
            "EnvSpec(Hero-v4)\n",
            "EnvSpec(HeroDeterministic-v0)\n",
            "EnvSpec(HeroDeterministic-v4)\n",
            "EnvSpec(HeroNoFrameskip-v0)\n",
            "EnvSpec(HeroNoFrameskip-v4)\n",
            "EnvSpec(Hero-ram-v0)\n",
            "EnvSpec(Hero-ram-v4)\n",
            "EnvSpec(Hero-ramDeterministic-v0)\n",
            "EnvSpec(Hero-ramDeterministic-v4)\n",
            "EnvSpec(Hero-ramNoFrameskip-v0)\n",
            "EnvSpec(Hero-ramNoFrameskip-v4)\n",
            "EnvSpec(IceHockey-v0)\n",
            "EnvSpec(IceHockey-v4)\n",
            "EnvSpec(IceHockeyDeterministic-v0)\n",
            "EnvSpec(IceHockeyDeterministic-v4)\n",
            "EnvSpec(IceHockeyNoFrameskip-v0)\n",
            "EnvSpec(IceHockeyNoFrameskip-v4)\n",
            "EnvSpec(IceHockey-ram-v0)\n",
            "EnvSpec(IceHockey-ram-v4)\n",
            "EnvSpec(IceHockey-ramDeterministic-v0)\n",
            "EnvSpec(IceHockey-ramDeterministic-v4)\n",
            "EnvSpec(IceHockey-ramNoFrameskip-v0)\n",
            "EnvSpec(IceHockey-ramNoFrameskip-v4)\n",
            "EnvSpec(Jamesbond-v0)\n",
            "EnvSpec(Jamesbond-v4)\n",
            "EnvSpec(JamesbondDeterministic-v0)\n",
            "EnvSpec(JamesbondDeterministic-v4)\n",
            "EnvSpec(JamesbondNoFrameskip-v0)\n",
            "EnvSpec(JamesbondNoFrameskip-v4)\n",
            "EnvSpec(Jamesbond-ram-v0)\n",
            "EnvSpec(Jamesbond-ram-v4)\n",
            "EnvSpec(Jamesbond-ramDeterministic-v0)\n",
            "EnvSpec(Jamesbond-ramDeterministic-v4)\n",
            "EnvSpec(Jamesbond-ramNoFrameskip-v0)\n",
            "EnvSpec(Jamesbond-ramNoFrameskip-v4)\n",
            "EnvSpec(JourneyEscape-v0)\n",
            "EnvSpec(JourneyEscape-v4)\n",
            "EnvSpec(JourneyEscapeDeterministic-v0)\n",
            "EnvSpec(JourneyEscapeDeterministic-v4)\n",
            "EnvSpec(JourneyEscapeNoFrameskip-v0)\n",
            "EnvSpec(JourneyEscapeNoFrameskip-v4)\n",
            "EnvSpec(JourneyEscape-ram-v0)\n",
            "EnvSpec(JourneyEscape-ram-v4)\n",
            "EnvSpec(JourneyEscape-ramDeterministic-v0)\n",
            "EnvSpec(JourneyEscape-ramDeterministic-v4)\n",
            "EnvSpec(JourneyEscape-ramNoFrameskip-v0)\n",
            "EnvSpec(JourneyEscape-ramNoFrameskip-v4)\n",
            "EnvSpec(Kangaroo-v0)\n",
            "EnvSpec(Kangaroo-v4)\n",
            "EnvSpec(KangarooDeterministic-v0)\n",
            "EnvSpec(KangarooDeterministic-v4)\n",
            "EnvSpec(KangarooNoFrameskip-v0)\n",
            "EnvSpec(KangarooNoFrameskip-v4)\n",
            "EnvSpec(Kangaroo-ram-v0)\n",
            "EnvSpec(Kangaroo-ram-v4)\n",
            "EnvSpec(Kangaroo-ramDeterministic-v0)\n",
            "EnvSpec(Kangaroo-ramDeterministic-v4)\n",
            "EnvSpec(Kangaroo-ramNoFrameskip-v0)\n",
            "EnvSpec(Kangaroo-ramNoFrameskip-v4)\n",
            "EnvSpec(Krull-v0)\n",
            "EnvSpec(Krull-v4)\n",
            "EnvSpec(KrullDeterministic-v0)\n",
            "EnvSpec(KrullDeterministic-v4)\n",
            "EnvSpec(KrullNoFrameskip-v0)\n",
            "EnvSpec(KrullNoFrameskip-v4)\n",
            "EnvSpec(Krull-ram-v0)\n",
            "EnvSpec(Krull-ram-v4)\n",
            "EnvSpec(Krull-ramDeterministic-v0)\n",
            "EnvSpec(Krull-ramDeterministic-v4)\n",
            "EnvSpec(Krull-ramNoFrameskip-v0)\n",
            "EnvSpec(Krull-ramNoFrameskip-v4)\n",
            "EnvSpec(KungFuMaster-v0)\n",
            "EnvSpec(KungFuMaster-v4)\n",
            "EnvSpec(KungFuMasterDeterministic-v0)\n",
            "EnvSpec(KungFuMasterDeterministic-v4)\n",
            "EnvSpec(KungFuMasterNoFrameskip-v0)\n",
            "EnvSpec(KungFuMasterNoFrameskip-v4)\n",
            "EnvSpec(KungFuMaster-ram-v0)\n",
            "EnvSpec(KungFuMaster-ram-v4)\n",
            "EnvSpec(KungFuMaster-ramDeterministic-v0)\n",
            "EnvSpec(KungFuMaster-ramDeterministic-v4)\n",
            "EnvSpec(KungFuMaster-ramNoFrameskip-v0)\n",
            "EnvSpec(KungFuMaster-ramNoFrameskip-v4)\n",
            "EnvSpec(MontezumaRevenge-v0)\n",
            "EnvSpec(MontezumaRevenge-v4)\n",
            "EnvSpec(MontezumaRevengeDeterministic-v0)\n",
            "EnvSpec(MontezumaRevengeDeterministic-v4)\n",
            "EnvSpec(MontezumaRevengeNoFrameskip-v0)\n",
            "EnvSpec(MontezumaRevengeNoFrameskip-v4)\n",
            "EnvSpec(MontezumaRevenge-ram-v0)\n",
            "EnvSpec(MontezumaRevenge-ram-v4)\n",
            "EnvSpec(MontezumaRevenge-ramDeterministic-v0)\n",
            "EnvSpec(MontezumaRevenge-ramDeterministic-v4)\n",
            "EnvSpec(MontezumaRevenge-ramNoFrameskip-v0)\n",
            "EnvSpec(MontezumaRevenge-ramNoFrameskip-v4)\n",
            "EnvSpec(MsPacman-v0)\n",
            "EnvSpec(MsPacman-v4)\n",
            "EnvSpec(MsPacmanDeterministic-v0)\n",
            "EnvSpec(MsPacmanDeterministic-v4)\n",
            "EnvSpec(MsPacmanNoFrameskip-v0)\n",
            "EnvSpec(MsPacmanNoFrameskip-v4)\n",
            "EnvSpec(MsPacman-ram-v0)\n",
            "EnvSpec(MsPacman-ram-v4)\n",
            "EnvSpec(MsPacman-ramDeterministic-v0)\n",
            "EnvSpec(MsPacman-ramDeterministic-v4)\n",
            "EnvSpec(MsPacman-ramNoFrameskip-v0)\n",
            "EnvSpec(MsPacman-ramNoFrameskip-v4)\n",
            "EnvSpec(NameThisGame-v0)\n",
            "EnvSpec(NameThisGame-v4)\n",
            "EnvSpec(NameThisGameDeterministic-v0)\n",
            "EnvSpec(NameThisGameDeterministic-v4)\n",
            "EnvSpec(NameThisGameNoFrameskip-v0)\n",
            "EnvSpec(NameThisGameNoFrameskip-v4)\n",
            "EnvSpec(NameThisGame-ram-v0)\n",
            "EnvSpec(NameThisGame-ram-v4)\n",
            "EnvSpec(NameThisGame-ramDeterministic-v0)\n",
            "EnvSpec(NameThisGame-ramDeterministic-v4)\n",
            "EnvSpec(NameThisGame-ramNoFrameskip-v0)\n",
            "EnvSpec(NameThisGame-ramNoFrameskip-v4)\n",
            "EnvSpec(Phoenix-v0)\n",
            "EnvSpec(Phoenix-v4)\n",
            "EnvSpec(PhoenixDeterministic-v0)\n",
            "EnvSpec(PhoenixDeterministic-v4)\n",
            "EnvSpec(PhoenixNoFrameskip-v0)\n",
            "EnvSpec(PhoenixNoFrameskip-v4)\n",
            "EnvSpec(Phoenix-ram-v0)\n",
            "EnvSpec(Phoenix-ram-v4)\n",
            "EnvSpec(Phoenix-ramDeterministic-v0)\n",
            "EnvSpec(Phoenix-ramDeterministic-v4)\n",
            "EnvSpec(Phoenix-ramNoFrameskip-v0)\n",
            "EnvSpec(Phoenix-ramNoFrameskip-v4)\n",
            "EnvSpec(Pitfall-v0)\n",
            "EnvSpec(Pitfall-v4)\n",
            "EnvSpec(PitfallDeterministic-v0)\n",
            "EnvSpec(PitfallDeterministic-v4)\n",
            "EnvSpec(PitfallNoFrameskip-v0)\n",
            "EnvSpec(PitfallNoFrameskip-v4)\n",
            "EnvSpec(Pitfall-ram-v0)\n",
            "EnvSpec(Pitfall-ram-v4)\n",
            "EnvSpec(Pitfall-ramDeterministic-v0)\n",
            "EnvSpec(Pitfall-ramDeterministic-v4)\n",
            "EnvSpec(Pitfall-ramNoFrameskip-v0)\n",
            "EnvSpec(Pitfall-ramNoFrameskip-v4)\n",
            "EnvSpec(Pong-v0)\n",
            "EnvSpec(Pong-v4)\n",
            "EnvSpec(PongDeterministic-v0)\n",
            "EnvSpec(PongDeterministic-v4)\n",
            "EnvSpec(PongNoFrameskip-v0)\n",
            "EnvSpec(PongNoFrameskip-v4)\n",
            "EnvSpec(Pong-ram-v0)\n",
            "EnvSpec(Pong-ram-v4)\n",
            "EnvSpec(Pong-ramDeterministic-v0)\n",
            "EnvSpec(Pong-ramDeterministic-v4)\n",
            "EnvSpec(Pong-ramNoFrameskip-v0)\n",
            "EnvSpec(Pong-ramNoFrameskip-v4)\n",
            "EnvSpec(Pooyan-v0)\n",
            "EnvSpec(Pooyan-v4)\n",
            "EnvSpec(PooyanDeterministic-v0)\n",
            "EnvSpec(PooyanDeterministic-v4)\n",
            "EnvSpec(PooyanNoFrameskip-v0)\n",
            "EnvSpec(PooyanNoFrameskip-v4)\n",
            "EnvSpec(Pooyan-ram-v0)\n",
            "EnvSpec(Pooyan-ram-v4)\n",
            "EnvSpec(Pooyan-ramDeterministic-v0)\n",
            "EnvSpec(Pooyan-ramDeterministic-v4)\n",
            "EnvSpec(Pooyan-ramNoFrameskip-v0)\n",
            "EnvSpec(Pooyan-ramNoFrameskip-v4)\n",
            "EnvSpec(PrivateEye-v0)\n",
            "EnvSpec(PrivateEye-v4)\n",
            "EnvSpec(PrivateEyeDeterministic-v0)\n",
            "EnvSpec(PrivateEyeDeterministic-v4)\n",
            "EnvSpec(PrivateEyeNoFrameskip-v0)\n",
            "EnvSpec(PrivateEyeNoFrameskip-v4)\n",
            "EnvSpec(PrivateEye-ram-v0)\n",
            "EnvSpec(PrivateEye-ram-v4)\n",
            "EnvSpec(PrivateEye-ramDeterministic-v0)\n",
            "EnvSpec(PrivateEye-ramDeterministic-v4)\n",
            "EnvSpec(PrivateEye-ramNoFrameskip-v0)\n",
            "EnvSpec(PrivateEye-ramNoFrameskip-v4)\n",
            "EnvSpec(Qbert-v0)\n",
            "EnvSpec(Qbert-v4)\n",
            "EnvSpec(QbertDeterministic-v0)\n",
            "EnvSpec(QbertDeterministic-v4)\n",
            "EnvSpec(QbertNoFrameskip-v0)\n",
            "EnvSpec(QbertNoFrameskip-v4)\n",
            "EnvSpec(Qbert-ram-v0)\n",
            "EnvSpec(Qbert-ram-v4)\n",
            "EnvSpec(Qbert-ramDeterministic-v0)\n",
            "EnvSpec(Qbert-ramDeterministic-v4)\n",
            "EnvSpec(Qbert-ramNoFrameskip-v0)\n",
            "EnvSpec(Qbert-ramNoFrameskip-v4)\n",
            "EnvSpec(Riverraid-v0)\n",
            "EnvSpec(Riverraid-v4)\n",
            "EnvSpec(RiverraidDeterministic-v0)\n",
            "EnvSpec(RiverraidDeterministic-v4)\n",
            "EnvSpec(RiverraidNoFrameskip-v0)\n",
            "EnvSpec(RiverraidNoFrameskip-v4)\n",
            "EnvSpec(Riverraid-ram-v0)\n",
            "EnvSpec(Riverraid-ram-v4)\n",
            "EnvSpec(Riverraid-ramDeterministic-v0)\n",
            "EnvSpec(Riverraid-ramDeterministic-v4)\n",
            "EnvSpec(Riverraid-ramNoFrameskip-v0)\n",
            "EnvSpec(Riverraid-ramNoFrameskip-v4)\n",
            "EnvSpec(RoadRunner-v0)\n",
            "EnvSpec(RoadRunner-v4)\n",
            "EnvSpec(RoadRunnerDeterministic-v0)\n",
            "EnvSpec(RoadRunnerDeterministic-v4)\n",
            "EnvSpec(RoadRunnerNoFrameskip-v0)\n",
            "EnvSpec(RoadRunnerNoFrameskip-v4)\n",
            "EnvSpec(RoadRunner-ram-v0)\n",
            "EnvSpec(RoadRunner-ram-v4)\n",
            "EnvSpec(RoadRunner-ramDeterministic-v0)\n",
            "EnvSpec(RoadRunner-ramDeterministic-v4)\n",
            "EnvSpec(RoadRunner-ramNoFrameskip-v0)\n",
            "EnvSpec(RoadRunner-ramNoFrameskip-v4)\n",
            "EnvSpec(Robotank-v0)\n",
            "EnvSpec(Robotank-v4)\n",
            "EnvSpec(RobotankDeterministic-v0)\n",
            "EnvSpec(RobotankDeterministic-v4)\n",
            "EnvSpec(RobotankNoFrameskip-v0)\n",
            "EnvSpec(RobotankNoFrameskip-v4)\n",
            "EnvSpec(Robotank-ram-v0)\n",
            "EnvSpec(Robotank-ram-v4)\n",
            "EnvSpec(Robotank-ramDeterministic-v0)\n",
            "EnvSpec(Robotank-ramDeterministic-v4)\n",
            "EnvSpec(Robotank-ramNoFrameskip-v0)\n",
            "EnvSpec(Robotank-ramNoFrameskip-v4)\n",
            "EnvSpec(Seaquest-v0)\n",
            "EnvSpec(Seaquest-v4)\n",
            "EnvSpec(SeaquestDeterministic-v0)\n",
            "EnvSpec(SeaquestDeterministic-v4)\n",
            "EnvSpec(SeaquestNoFrameskip-v0)\n",
            "EnvSpec(SeaquestNoFrameskip-v4)\n",
            "EnvSpec(Seaquest-ram-v0)\n",
            "EnvSpec(Seaquest-ram-v4)\n",
            "EnvSpec(Seaquest-ramDeterministic-v0)\n",
            "EnvSpec(Seaquest-ramDeterministic-v4)\n",
            "EnvSpec(Seaquest-ramNoFrameskip-v0)\n",
            "EnvSpec(Seaquest-ramNoFrameskip-v4)\n",
            "EnvSpec(Skiing-v0)\n",
            "EnvSpec(Skiing-v4)\n",
            "EnvSpec(SkiingDeterministic-v0)\n",
            "EnvSpec(SkiingDeterministic-v4)\n",
            "EnvSpec(SkiingNoFrameskip-v0)\n",
            "EnvSpec(SkiingNoFrameskip-v4)\n",
            "EnvSpec(Skiing-ram-v0)\n",
            "EnvSpec(Skiing-ram-v4)\n",
            "EnvSpec(Skiing-ramDeterministic-v0)\n",
            "EnvSpec(Skiing-ramDeterministic-v4)\n",
            "EnvSpec(Skiing-ramNoFrameskip-v0)\n",
            "EnvSpec(Skiing-ramNoFrameskip-v4)\n",
            "EnvSpec(Solaris-v0)\n",
            "EnvSpec(Solaris-v4)\n",
            "EnvSpec(SolarisDeterministic-v0)\n",
            "EnvSpec(SolarisDeterministic-v4)\n",
            "EnvSpec(SolarisNoFrameskip-v0)\n",
            "EnvSpec(SolarisNoFrameskip-v4)\n",
            "EnvSpec(Solaris-ram-v0)\n",
            "EnvSpec(Solaris-ram-v4)\n",
            "EnvSpec(Solaris-ramDeterministic-v0)\n",
            "EnvSpec(Solaris-ramDeterministic-v4)\n",
            "EnvSpec(Solaris-ramNoFrameskip-v0)\n",
            "EnvSpec(Solaris-ramNoFrameskip-v4)\n",
            "EnvSpec(SpaceInvaders-v0)\n",
            "EnvSpec(SpaceInvaders-v4)\n",
            "EnvSpec(SpaceInvadersDeterministic-v0)\n",
            "EnvSpec(SpaceInvadersDeterministic-v4)\n",
            "EnvSpec(SpaceInvadersNoFrameskip-v0)\n",
            "EnvSpec(SpaceInvadersNoFrameskip-v4)\n",
            "EnvSpec(SpaceInvaders-ram-v0)\n",
            "EnvSpec(SpaceInvaders-ram-v4)\n",
            "EnvSpec(SpaceInvaders-ramDeterministic-v0)\n",
            "EnvSpec(SpaceInvaders-ramDeterministic-v4)\n",
            "EnvSpec(SpaceInvaders-ramNoFrameskip-v0)\n",
            "EnvSpec(SpaceInvaders-ramNoFrameskip-v4)\n",
            "EnvSpec(StarGunner-v0)\n",
            "EnvSpec(StarGunner-v4)\n",
            "EnvSpec(StarGunnerDeterministic-v0)\n",
            "EnvSpec(StarGunnerDeterministic-v4)\n",
            "EnvSpec(StarGunnerNoFrameskip-v0)\n",
            "EnvSpec(StarGunnerNoFrameskip-v4)\n",
            "EnvSpec(StarGunner-ram-v0)\n",
            "EnvSpec(StarGunner-ram-v4)\n",
            "EnvSpec(StarGunner-ramDeterministic-v0)\n",
            "EnvSpec(StarGunner-ramDeterministic-v4)\n",
            "EnvSpec(StarGunner-ramNoFrameskip-v0)\n",
            "EnvSpec(StarGunner-ramNoFrameskip-v4)\n",
            "EnvSpec(Tennis-v0)\n",
            "EnvSpec(Tennis-v4)\n",
            "EnvSpec(TennisDeterministic-v0)\n",
            "EnvSpec(TennisDeterministic-v4)\n",
            "EnvSpec(TennisNoFrameskip-v0)\n",
            "EnvSpec(TennisNoFrameskip-v4)\n",
            "EnvSpec(Tennis-ram-v0)\n",
            "EnvSpec(Tennis-ram-v4)\n",
            "EnvSpec(Tennis-ramDeterministic-v0)\n",
            "EnvSpec(Tennis-ramDeterministic-v4)\n",
            "EnvSpec(Tennis-ramNoFrameskip-v0)\n",
            "EnvSpec(Tennis-ramNoFrameskip-v4)\n",
            "EnvSpec(TimePilot-v0)\n",
            "EnvSpec(TimePilot-v4)\n",
            "EnvSpec(TimePilotDeterministic-v0)\n",
            "EnvSpec(TimePilotDeterministic-v4)\n",
            "EnvSpec(TimePilotNoFrameskip-v0)\n",
            "EnvSpec(TimePilotNoFrameskip-v4)\n",
            "EnvSpec(TimePilot-ram-v0)\n",
            "EnvSpec(TimePilot-ram-v4)\n",
            "EnvSpec(TimePilot-ramDeterministic-v0)\n",
            "EnvSpec(TimePilot-ramDeterministic-v4)\n",
            "EnvSpec(TimePilot-ramNoFrameskip-v0)\n",
            "EnvSpec(TimePilot-ramNoFrameskip-v4)\n",
            "EnvSpec(Tutankham-v0)\n",
            "EnvSpec(Tutankham-v4)\n",
            "EnvSpec(TutankhamDeterministic-v0)\n",
            "EnvSpec(TutankhamDeterministic-v4)\n",
            "EnvSpec(TutankhamNoFrameskip-v0)\n",
            "EnvSpec(TutankhamNoFrameskip-v4)\n",
            "EnvSpec(Tutankham-ram-v0)\n",
            "EnvSpec(Tutankham-ram-v4)\n",
            "EnvSpec(Tutankham-ramDeterministic-v0)\n",
            "EnvSpec(Tutankham-ramDeterministic-v4)\n",
            "EnvSpec(Tutankham-ramNoFrameskip-v0)\n",
            "EnvSpec(Tutankham-ramNoFrameskip-v4)\n",
            "EnvSpec(UpNDown-v0)\n",
            "EnvSpec(UpNDown-v4)\n",
            "EnvSpec(UpNDownDeterministic-v0)\n",
            "EnvSpec(UpNDownDeterministic-v4)\n",
            "EnvSpec(UpNDownNoFrameskip-v0)\n",
            "EnvSpec(UpNDownNoFrameskip-v4)\n",
            "EnvSpec(UpNDown-ram-v0)\n",
            "EnvSpec(UpNDown-ram-v4)\n",
            "EnvSpec(UpNDown-ramDeterministic-v0)\n",
            "EnvSpec(UpNDown-ramDeterministic-v4)\n",
            "EnvSpec(UpNDown-ramNoFrameskip-v0)\n",
            "EnvSpec(UpNDown-ramNoFrameskip-v4)\n",
            "EnvSpec(Venture-v0)\n",
            "EnvSpec(Venture-v4)\n",
            "EnvSpec(VentureDeterministic-v0)\n",
            "EnvSpec(VentureDeterministic-v4)\n",
            "EnvSpec(VentureNoFrameskip-v0)\n",
            "EnvSpec(VentureNoFrameskip-v4)\n",
            "EnvSpec(Venture-ram-v0)\n",
            "EnvSpec(Venture-ram-v4)\n",
            "EnvSpec(Venture-ramDeterministic-v0)\n",
            "EnvSpec(Venture-ramDeterministic-v4)\n",
            "EnvSpec(Venture-ramNoFrameskip-v0)\n",
            "EnvSpec(Venture-ramNoFrameskip-v4)\n",
            "EnvSpec(VideoPinball-v0)\n",
            "EnvSpec(VideoPinball-v4)\n",
            "EnvSpec(VideoPinballDeterministic-v0)\n",
            "EnvSpec(VideoPinballDeterministic-v4)\n",
            "EnvSpec(VideoPinballNoFrameskip-v0)\n",
            "EnvSpec(VideoPinballNoFrameskip-v4)\n",
            "EnvSpec(VideoPinball-ram-v0)\n",
            "EnvSpec(VideoPinball-ram-v4)\n",
            "EnvSpec(VideoPinball-ramDeterministic-v0)\n",
            "EnvSpec(VideoPinball-ramDeterministic-v4)\n",
            "EnvSpec(VideoPinball-ramNoFrameskip-v0)\n",
            "EnvSpec(VideoPinball-ramNoFrameskip-v4)\n",
            "EnvSpec(WizardOfWor-v0)\n",
            "EnvSpec(WizardOfWor-v4)\n",
            "EnvSpec(WizardOfWorDeterministic-v0)\n",
            "EnvSpec(WizardOfWorDeterministic-v4)\n",
            "EnvSpec(WizardOfWorNoFrameskip-v0)\n",
            "EnvSpec(WizardOfWorNoFrameskip-v4)\n",
            "EnvSpec(WizardOfWor-ram-v0)\n",
            "EnvSpec(WizardOfWor-ram-v4)\n",
            "EnvSpec(WizardOfWor-ramDeterministic-v0)\n",
            "EnvSpec(WizardOfWor-ramDeterministic-v4)\n",
            "EnvSpec(WizardOfWor-ramNoFrameskip-v0)\n",
            "EnvSpec(WizardOfWor-ramNoFrameskip-v4)\n",
            "EnvSpec(YarsRevenge-v0)\n",
            "EnvSpec(YarsRevenge-v4)\n",
            "EnvSpec(YarsRevengeDeterministic-v0)\n",
            "EnvSpec(YarsRevengeDeterministic-v4)\n",
            "EnvSpec(YarsRevengeNoFrameskip-v0)\n",
            "EnvSpec(YarsRevengeNoFrameskip-v4)\n",
            "EnvSpec(YarsRevenge-ram-v0)\n",
            "EnvSpec(YarsRevenge-ram-v4)\n",
            "EnvSpec(YarsRevenge-ramDeterministic-v0)\n",
            "EnvSpec(YarsRevenge-ramDeterministic-v4)\n",
            "EnvSpec(YarsRevenge-ramNoFrameskip-v0)\n",
            "EnvSpec(YarsRevenge-ramNoFrameskip-v4)\n",
            "EnvSpec(Zaxxon-v0)\n",
            "EnvSpec(Zaxxon-v4)\n",
            "EnvSpec(ZaxxonDeterministic-v0)\n",
            "EnvSpec(ZaxxonDeterministic-v4)\n",
            "EnvSpec(ZaxxonNoFrameskip-v0)\n",
            "EnvSpec(ZaxxonNoFrameskip-v4)\n",
            "EnvSpec(Zaxxon-ram-v0)\n",
            "EnvSpec(Zaxxon-ram-v4)\n",
            "EnvSpec(Zaxxon-ramDeterministic-v0)\n",
            "EnvSpec(Zaxxon-ramDeterministic-v4)\n",
            "EnvSpec(Zaxxon-ramNoFrameskip-v0)\n",
            "EnvSpec(Zaxxon-ramNoFrameskip-v4)\n",
            "EnvSpec(CubeCrash-v0)\n",
            "EnvSpec(CubeCrashSparse-v0)\n",
            "EnvSpec(CubeCrashScreenBecomesBlack-v0)\n",
            "EnvSpec(MemorizeDigits-v0)\n"
          ]
        }
      ],
      "source": [
        "all_env = list(gym.envs.registry.all())\n",
        "for env in list(all_env):\n",
        "    print(env)"
      ]
    },
    {
      "cell_type": "code",
      "execution_count": null,
      "metadata": {
        "colab": {
          "base_uri": "https://localhost:8080/"
        },
        "id": "sngnLMmmYthO",
        "outputId": "48868a80-ef2d-4edd-b4f9-df72661bf304"
      },
      "outputs": [
        {
          "data": {
            "text/plain": [
              "859"
            ]
          },
          "execution_count": 4,
          "metadata": {},
          "output_type": "execute_result"
        }
      ],
      "source": [
        "len(all_env)"
      ]
    },
    {
      "cell_type": "code",
      "execution_count": null,
      "metadata": {
        "id": "eyfJ4BHoYw5d"
      },
      "outputs": [],
      "source": []
    },
    {
      "cell_type": "markdown",
      "metadata": {
        "id": "me-zsPlUY58Y"
      },
      "source": [
        "[link text](https://)## Basic functions and uses of gym environment functions\n",
        "**make**: make is used to create the selected environment given from the parameters\n",
        "\n",
        "**reset**: reset the environment to default state\n",
        "\n",
        "**action_space**: all possible actions for the environment\n",
        "\n",
        "**observation_space**: all possible observations for the environment\n",
        "\n",
        "**render**: rendering a visual for each environment\n",
        "\n",
        "**step**: a function where you pass the action to take for the environment\n",
        "\n",
        "**observation**: observation noted from the environment\n",
        "\n",
        "**reward**: reward obtained for taking the step in the environment\n",
        "\n",
        "**done**: single boolean values which tells if the episode has ended\n",
        "\n",
        "**info**: additional information used to debug the running of the environment\n",
        "\n",
        "**wrappers**: extend the environment defined and allow for more features and additionial build details into the environment, can ddefine observation, action and reward wrappers individually\n"
      ]
    },
    {
      "cell_type": "code",
      "execution_count": null,
      "metadata": {
        "colab": {
          "base_uri": "https://localhost:8080/"
        },
        "id": "1KvD-MT6Zcjk",
        "outputId": "4456f0a6-0fc8-4a83-83bc-9605cb9bd0a5"
      },
      "outputs": [
        {
          "name": "stdout",
          "output_type": "stream",
          "text": [
            "Total length of input instance: 4, step: 0\n",
            "==========================================\n",
            "Observation Tape    :   \u001b[42mE\u001b[0mCEE  \n",
            "Output Tape         :   \n",
            "Targets             :   ECEE  \n",
            "\n",
            "\n",
            "\n",
            "\n",
            "\n",
            "\n",
            "Tuple(Discrete(2), Discrete(2), Discrete(5))\n",
            "Discrete(6)\n"
          ]
        }
      ],
      "source": [
        "env = gym.make('Copy-v0') #This task involves copying the symbols from the input tape to the output tape.\n",
        "env.reset()\n",
        "env.render()\n",
        "print(env.action_space)\n",
        "print(env.observation_space)"
      ]
    },
    {
      "cell_type": "code",
      "execution_count": null,
      "metadata": {
        "colab": {
          "base_uri": "https://localhost:8080/"
        },
        "id": "bfaAI_iDZgRv",
        "outputId": "7c0afae2-019d-4437-e253-32836492251b"
      },
      "outputs": [
        {
          "name": "stdout",
          "output_type": "stream",
          "text": [
            "Total length of input instance: 3, step: 0\n",
            "==========================================\n",
            "Observation Tape    :   \u001b[42mC\u001b[0mBC  \n",
            "Output Tape         :   \n",
            "Targets             :   CBCCBCCBC  \n",
            "\n",
            "\n",
            "\n",
            "\n",
            "\n",
            "\n",
            "Tuple(Discrete(2), Discrete(2), Discrete(5))\n",
            "Discrete(6)\n"
          ]
        }
      ],
      "source": [
        "env = gym.make('RepeatCopy-v0') #the goal is to copy the input, revert it and copy it again.\n",
        "env.reset()\n",
        "env.render()\n",
        "print(env.action_space)\n",
        "print(env.observation_space)"
      ]
    },
    {
      "cell_type": "markdown",
      "metadata": {
        "id": "RYdYt4NoZkuK"
      },
      "source": [
        "# Toy_text\n",
        "\n",
        "Toy environments which are text-based. "
      ]
    },
    {
      "cell_type": "code",
      "execution_count": null,
      "metadata": {
        "colab": {
          "base_uri": "https://localhost:8080/"
        },
        "id": "8NYyDRhmZkDr",
        "outputId": "7675c147-175f-4973-9c20-26099c93ed1d"
      },
      "outputs": [
        {
          "name": "stdout",
          "output_type": "stream",
          "text": [
            "\n",
            "\u001b[41mS\u001b[0mFFF\n",
            "FHFH\n",
            "FFFH\n",
            "HFFG\n",
            "Discrete(4)\n",
            "Discrete(16)\n"
          ]
        }
      ],
      "source": [
        "env = gym.make('FrozenLake-v0') \n",
        "env.reset()\n",
        "env.render()\n",
        "print(env.action_space)\n",
        "print(env.observation_space)"
      ]
    },
    {
      "cell_type": "code",
      "execution_count": null,
      "metadata": {
        "colab": {
          "base_uri": "https://localhost:8080/"
        },
        "id": "eYWVRtpjZoRU",
        "outputId": "4b52a023-e667-4806-912e-cfeead52f67d"
      },
      "outputs": [
        {
          "name": "stdout",
          "output_type": "stream",
          "text": [
            "\n",
            "\u001b[41mS\u001b[0mFFFFFFF\n",
            "FFFFFFFF\n",
            "FFFHFFFF\n",
            "FFFFFHFF\n",
            "FFFHFFFF\n",
            "FHHFFFHF\n",
            "FHFFHFHF\n",
            "FFFHFFFG\n",
            "Discrete(4)\n",
            "Discrete(64)\n"
          ]
        }
      ],
      "source": [
        "import gym\n",
        "env = gym.make('FrozenLake8x8-v0') #finding a walkable path to a goal tile.\n",
        "env.reset()\n",
        "env.render()\n",
        "print(env.action_space)\n",
        "print(env.observation_space)"
      ]
    },
    {
      "cell_type": "markdown",
      "metadata": {
        "id": "uPxQmYK8ZwS8"
      },
      "source": [
        "#For rendering\n",
        "\n",
        "The Gym will normally render the display using GL on the screen. But Colab is run on the web as a notebook, it can’t display directly to the screen. It can only show the result through HTML.\n",
        "\n",
        "One way to render gym environment, the animation, in google colab is to use pyvirtualdisplay and store rgb frame array while running environment. Environment frames can be animated using animation feature of matplotlib and HTML function used for Ipython display module."
      ]
    },
    {
      "cell_type": "code",
      "execution_count": null,
      "metadata": {
        "colab": {
          "base_uri": "https://localhost:8080/"
        },
        "id": "9qx-Kw_WZt08",
        "outputId": "bfa3fbad-c1bc-4577-8591-6eb0f4fd6e5c"
      },
      "outputs": [
        {
          "data": {
            "text/plain": [
              "<pyvirtualdisplay.display.Display at 0x7ff37f2495d0>"
            ]
          },
          "execution_count": 19,
          "metadata": {},
          "output_type": "execute_result"
        }
      ],
      "source": [
        "from pyvirtualdisplay import Display\n",
        "display = Display(visible=0, size=(1400, 900))\n",
        "display.start()"
      ]
    },
    {
      "cell_type": "code",
      "execution_count": null,
      "metadata": {
        "id": "gkRzByDDZyYW"
      },
      "outputs": [],
      "source": [
        "# This code creates a virtual display to draw game images on. \n",
        "# If you are running locally, just ignore it\n",
        "import os\n",
        "if type(os.environ.get(\"DISPLAY\")) is not str or len(os.environ.get(\"DISPLAY\"))==0:\n",
        "    !bash ../xvfb start\n",
        "    %env DISPLAY=:1"
      ]
    },
    {
      "cell_type": "code",
      "execution_count": null,
      "metadata": {
        "id": "6yCHJwFXZ0pN"
      },
      "outputs": [],
      "source": [
        "import gym\n",
        "from gym import logger as gymlogger\n",
        "from gym.wrappers import Monitor\n",
        "gymlogger.set_level(40) # error only\n",
        "\n",
        "\n",
        "import numpy as np\n",
        "import random\n",
        "import matplotlib\n",
        "import matplotlib.pyplot as plt\n",
        "%matplotlib inline\n",
        "import math\n",
        "import glob\n",
        "import io\n",
        "import base64\n",
        "from IPython.display import HTML\n",
        "\n",
        "from IPython import display as ipythondisplay"
      ]
    },
    {
      "cell_type": "code",
      "execution_count": null,
      "metadata": {
        "id": "ePe2LO6FZ3eF"
      },
      "outputs": [],
      "source": [
        "\"\"\"\n",
        "Utility functions to enable video recording of gym environment and displaying it\n",
        "To enable video, just do \"env = wrap_env(env)\"\"\n",
        "\"\"\"\n",
        "\n",
        "def show_video():\n",
        "  mp4list = glob.glob('video/*.mp4')\n",
        "  if len(mp4list) > 0:\n",
        "    mp4 = mp4list[0]\n",
        "    video = io.open(mp4, 'r+b').read()\n",
        "    encoded = base64.b64encode(video)\n",
        "    ipythondisplay.display(HTML(data='''<video alt=\"test\" autoplay \n",
        "                loop controls style=\"height: 400px;\">\n",
        "                <source src=\"data:video/mp4;base64,{0}\" type=\"video/mp4\" />\n",
        "             </video>'''.format(encoded.decode('ascii'))))\n",
        "  else: \n",
        "    print(\"Could not find video\")\n",
        "    \n",
        "\n",
        "def wrap_env(env):\n",
        "  env = Monitor(env, './video', force=True)\n",
        "  return env"
      ]
    },
    {
      "cell_type": "code",
      "execution_count": null,
      "metadata": {
        "colab": {
          "base_uri": "https://localhost:8080/"
        },
        "id": "tsEIXXAtZ-zZ",
        "outputId": "fa2e4fc5-4243-4f39-ac98-c889a4a3555a"
      },
      "outputs": [
        {
          "name": "stdout",
          "output_type": "stream",
          "text": [
            "Requirement already satisfied: pyglet in /usr/local/lib/python3.7/dist-packages (1.5.0)\n",
            "Requirement already satisfied: future in /usr/local/lib/python3.7/dist-packages (from pyglet) (0.16.0)\n"
          ]
        }
      ],
      "source": [
        "pip install pyglet"
      ]
    },
    {
      "cell_type": "markdown",
      "metadata": {
        "id": "GZ3HyOdKZ9kq"
      },
      "source": [
        "#Classic control\n",
        "\n",
        "These are a variety of classic control tasks, which would appear in a typical reinforcement learning textbook. If you didn't do the full install, you will need to run pip install -e '.[classic_control]' to enable rendering. "
      ]
    },
    {
      "cell_type": "code",
      "execution_count": null,
      "metadata": {
        "colab": {
          "base_uri": "https://localhost:8080/",
          "height": 305
        },
        "id": "b39TTAmPaKhH",
        "outputId": "460c705c-496d-4721-88ab-2ed26de0d0f6"
      },
      "outputs": [
        {
          "name": "stdout",
          "output_type": "stream",
          "text": [
            "Discrete(2)\n",
            "Box(-3.4028234663852886e+38, 3.4028234663852886e+38, (4,), float32)\n"
          ]
        },
        {
          "data": {
            "image/png": "[encoded data removed]",
            "text/plain": [
              "<Figure size 432x288 with 1 Axes>"
            ]
          },
          "metadata": {
            "needs_background": "light"
          },
          "output_type": "display_data"
        }
      ],
      "source": [
        "import gym\n",
        "import pyglet\n",
        "env = gym.make('CartPole-v1')\n",
        "env.reset()\n",
        "plt.imshow(env.render('rgb_array'))\n",
        "print(env.action_space)\n",
        "print(env.observation_space)"
      ]
    },
    {
      "cell_type": "code",
      "execution_count": null,
      "metadata": {
        "colab": {
          "base_uri": "https://localhost:8080/"
        },
        "id": "sWicFl5xY8Jk",
        "outputId": "5f0a4233-8934-4350-c503-8e6d66cf9f33"
      },
      "outputs": [
        {
          "data": {
            "text/plain": [
              "array([ 0.03117872, -0.04776827,  0.01454037,  0.02486047])"
            ]
          },
          "execution_count": 5,
          "metadata": {},
          "output_type": "execute_result"
        }
      ],
      "source": [
        "env = gym.make('CartPole-v0')\n",
        "env.reset()"
      ]
    },
    {
      "cell_type": "code",
      "execution_count": null,
      "metadata": {
        "colab": {
          "base_uri": "https://localhost:8080/"
        },
        "id": "_fpA9hukY-Qb",
        "outputId": "da4a0c9f-0193-462e-b1ea-210ebaf2e70a"
      },
      "outputs": [
        {
          "name": "stdout",
          "output_type": "stream",
          "text": [
            "Observation space: Box(-3.4028234663852886e+38, 3.4028234663852886e+38, (4,), float32)\n",
            "Action space: Discrete(2)\n"
          ]
        }
      ],
      "source": [
        "print(\"Observation space:\", env.observation_space)\n",
        "print(\"Action space:\", env.action_space)"
      ]
    },
    {
      "cell_type": "code",
      "execution_count": null,
      "metadata": {
        "colab": {
          "base_uri": "https://localhost:8080/"
        },
        "id": "DfxeIO3Uag-M",
        "outputId": "ee606192-0351-4923-a4f0-f217aa90cab2"
      },
      "outputs": [
        {
          "name": "stdout",
          "output_type": "stream",
          "text": [
            "Collecting unrar\n",
            "  Downloading unrar-0.4-py3-none-any.whl (25 kB)\n",
            "Installing collected packages: unrar\n",
            "Successfully installed unrar-0.4\n",
            "\n",
            "UNRAR 5.50 freeware      Copyright (c) 1993-2017 Alexander Roshal\n",
            "\n",
            "\n",
            "Extracting from Roms.rar\n",
            "\n",
            "Extracting  HC ROMS.zip                                                  \b\b\b\b 36%\b\b\b\b\b  OK \n",
            "Extracting  ROMS.zip                                                     \b\b\b\b 74%\b\b\b\b 99%\b\b\b\b\b  OK \n",
            "All OK\n",
            "copying adventure.bin from HC ROMS/BY ALPHABET (PAL)/A-G/Adventure (PAL).bin to /usr/local/lib/python3.7/dist-packages/atari_py/atari_roms/adventure.bin\n",
            "copying air_raid.bin from HC ROMS/BY ALPHABET (PAL)/A-G/Air Raid (PAL).bin to /usr/local/lib/python3.7/dist-packages/atari_py/atari_roms/air_raid.bin\n",
            "copying alien.bin from HC ROMS/BY ALPHABET (PAL)/A-G/REMAINING NTSC ORIGINALS/Alien.bin to /usr/local/lib/python3.7/dist-packages/atari_py/atari_roms/alien.bin\n",
            "copying crazy_climber.bin from HC ROMS/BY ALPHABET (PAL)/A-G/REMAINING NTSC ORIGINALS/Crazy Climber.bin to /usr/local/lib/python3.7/dist-packages/atari_py/atari_roms/crazy_climber.bin\n",
            "copying elevator_action.bin from HC ROMS/BY ALPHABET (PAL)/A-G/REMAINING NTSC ORIGINALS/Elevator Action (Prototype).bin to /usr/local/lib/python3.7/dist-packages/atari_py/atari_roms/elevator_action.bin\n",
            "copying gravitar.bin from HC ROMS/BY ALPHABET (PAL)/A-G/REMAINING NTSC ORIGINALS/Gravitar.bin to /usr/local/lib/python3.7/dist-packages/atari_py/atari_roms/gravitar.bin\n",
            "copying keystone_kapers.bin from HC ROMS/BY ALPHABET (PAL)/H-R/Keystone Kapers (PAL).bin to /usr/local/lib/python3.7/dist-packages/atari_py/atari_roms/keystone_kapers.bin\n",
            "copying king_kong.bin from HC ROMS/BY ALPHABET (PAL)/H-R/King Kong (PAL).bin to /usr/local/lib/python3.7/dist-packages/atari_py/atari_roms/king_kong.bin\n",
            "copying laser_gates.bin from HC ROMS/BY ALPHABET (PAL)/H-R/Laser Gates (PAL).bin to /usr/local/lib/python3.7/dist-packages/atari_py/atari_roms/laser_gates.bin\n",
            "copying mr_do.bin from HC ROMS/BY ALPHABET (PAL)/H-R/Mr. Do! (PAL).bin to /usr/local/lib/python3.7/dist-packages/atari_py/atari_roms/mr_do.bin\n",
            "copying pacman.bin from HC ROMS/BY ALPHABET (PAL)/H-R/Pac-Man (PAL).bin to /usr/local/lib/python3.7/dist-packages/atari_py/atari_roms/pacman.bin\n",
            "copying jamesbond.bin from HC ROMS/BY ALPHABET (PAL)/H-R/REMAINING NTSC ORIGINALS/James Bond 007.bin to /usr/local/lib/python3.7/dist-packages/atari_py/atari_roms/jamesbond.bin\n",
            "copying koolaid.bin from HC ROMS/BY ALPHABET (PAL)/H-R/REMAINING NTSC ORIGINALS/Kool-Aid Man.bin to /usr/local/lib/python3.7/dist-packages/atari_py/atari_roms/koolaid.bin\n",
            "copying krull.bin from HC ROMS/BY ALPHABET (PAL)/H-R/REMAINING NTSC ORIGINALS/Krull.bin to /usr/local/lib/python3.7/dist-packages/atari_py/atari_roms/krull.bin\n",
            "copying montezuma_revenge.bin from HC ROMS/BY ALPHABET (PAL)/H-R/REMAINING NTSC ORIGINALS/Montezuma's Revenge - Featuring Panama Joe.bin to /usr/local/lib/python3.7/dist-packages/atari_py/atari_roms/montezuma_revenge.bin\n",
            "copying star_gunner.bin from HC ROMS/BY ALPHABET (PAL)/S-Z/REMAINING NTSC ORIGINALS/Stargunner.bin to /usr/local/lib/python3.7/dist-packages/atari_py/atari_roms/star_gunner.bin\n",
            "copying time_pilot.bin from HC ROMS/BY ALPHABET (PAL)/S-Z/REMAINING NTSC ORIGINALS/Time Pilot.bin to /usr/local/lib/python3.7/dist-packages/atari_py/atari_roms/time_pilot.bin\n",
            "copying up_n_down.bin from HC ROMS/BY ALPHABET (PAL)/S-Z/REMAINING NTSC ORIGINALS/Up 'n Down.bin to /usr/local/lib/python3.7/dist-packages/atari_py/atari_roms/up_n_down.bin\n",
            "copying sir_lancelot.bin from HC ROMS/BY ALPHABET (PAL)/S-Z/Sir Lancelot (PAL).bin to /usr/local/lib/python3.7/dist-packages/atari_py/atari_roms/sir_lancelot.bin\n",
            "copying amidar.bin from HC ROMS/BY ALPHABET/A-G/Amidar.bin to /usr/local/lib/python3.7/dist-packages/atari_py/atari_roms/amidar.bin\n",
            "copying asteroids.bin from HC ROMS/BY ALPHABET/A-G/Asteroids [no copyright].bin to /usr/local/lib/python3.7/dist-packages/atari_py/atari_roms/asteroids.bin\n",
            "copying atlantis.bin from HC ROMS/BY ALPHABET/A-G/Atlantis.bin to /usr/local/lib/python3.7/dist-packages/atari_py/atari_roms/atlantis.bin\n",
            "copying bank_heist.bin from HC ROMS/BY ALPHABET/A-G/Bank Heist.bin to /usr/local/lib/python3.7/dist-packages/atari_py/atari_roms/bank_heist.bin\n",
            "copying battle_zone.bin from HC ROMS/BY ALPHABET/A-G/Battlezone.bin to /usr/local/lib/python3.7/dist-packages/atari_py/atari_roms/battle_zone.bin\n",
            "copying beam_rider.bin from HC ROMS/BY ALPHABET/A-G/Beamrider.bin to /usr/local/lib/python3.7/dist-packages/atari_py/atari_roms/beam_rider.bin\n",
            "copying berzerk.bin from HC ROMS/BY ALPHABET/A-G/Berzerk.bin to /usr/local/lib/python3.7/dist-packages/atari_py/atari_roms/berzerk.bin\n",
            "copying bowling.bin from HC ROMS/BY ALPHABET/A-G/Bowling.bin to /usr/local/lib/python3.7/dist-packages/atari_py/atari_roms/bowling.bin\n",
            "copying boxing.bin from HC ROMS/BY ALPHABET/A-G/Boxing.bin to /usr/local/lib/python3.7/dist-packages/atari_py/atari_roms/boxing.bin\n",
            "copying breakout.bin from HC ROMS/BY ALPHABET/A-G/Breakout - Breakaway IV.bin to /usr/local/lib/python3.7/dist-packages/atari_py/atari_roms/breakout.bin\n",
            "copying carnival.bin from HC ROMS/BY ALPHABET/A-G/Carnival.bin to /usr/local/lib/python3.7/dist-packages/atari_py/atari_roms/carnival.bin\n",
            "copying centipede.bin from HC ROMS/BY ALPHABET/A-G/Centipede.bin to /usr/local/lib/python3.7/dist-packages/atari_py/atari_roms/centipede.bin\n",
            "copying chopper_command.bin from HC ROMS/BY ALPHABET/A-G/Chopper Command.bin to /usr/local/lib/python3.7/dist-packages/atari_py/atari_roms/chopper_command.bin\n",
            "copying defender.bin from HC ROMS/BY ALPHABET/A-G/Defender.bin to /usr/local/lib/python3.7/dist-packages/atari_py/atari_roms/defender.bin\n",
            "copying demon_attack.bin from HC ROMS/BY ALPHABET/A-G/Demon Attack.bin to /usr/local/lib/python3.7/dist-packages/atari_py/atari_roms/demon_attack.bin\n",
            "copying donkey_kong.bin from HC ROMS/BY ALPHABET/A-G/Donkey Kong.bin to /usr/local/lib/python3.7/dist-packages/atari_py/atari_roms/donkey_kong.bin\n",
            "copying double_dunk.bin from HC ROMS/BY ALPHABET/A-G/Double Dunk.bin to /usr/local/lib/python3.7/dist-packages/atari_py/atari_roms/double_dunk.bin\n",
            "copying enduro.bin from HC ROMS/BY ALPHABET/A-G/Enduro.bin to /usr/local/lib/python3.7/dist-packages/atari_py/atari_roms/enduro.bin\n",
            "copying fishing_derby.bin from HC ROMS/BY ALPHABET/A-G/Fishing Derby.bin to /usr/local/lib/python3.7/dist-packages/atari_py/atari_roms/fishing_derby.bin\n",
            "copying freeway.bin from HC ROMS/BY ALPHABET/A-G/Freeway.bin to /usr/local/lib/python3.7/dist-packages/atari_py/atari_roms/freeway.bin\n",
            "copying frogger.bin from HC ROMS/BY ALPHABET/A-G/Frogger.bin to /usr/local/lib/python3.7/dist-packages/atari_py/atari_roms/frogger.bin\n",
            "copying frostbite.bin from HC ROMS/BY ALPHABET/A-G/Frostbite.bin to /usr/local/lib/python3.7/dist-packages/atari_py/atari_roms/frostbite.bin\n",
            "copying galaxian.bin from HC ROMS/BY ALPHABET/A-G/Galaxian.bin to /usr/local/lib/python3.7/dist-packages/atari_py/atari_roms/galaxian.bin\n",
            "copying gopher.bin from HC ROMS/BY ALPHABET/A-G/Gopher.bin to /usr/local/lib/python3.7/dist-packages/atari_py/atari_roms/gopher.bin\n",
            "copying hero.bin from HC ROMS/BY ALPHABET/H-R/H.E.R.O..bin to /usr/local/lib/python3.7/dist-packages/atari_py/atari_roms/hero.bin\n",
            "copying ice_hockey.bin from HC ROMS/BY ALPHABET/H-R/Ice Hockey.bin to /usr/local/lib/python3.7/dist-packages/atari_py/atari_roms/ice_hockey.bin\n",
            "copying journey_escape.bin from HC ROMS/BY ALPHABET/H-R/Journey Escape.bin to /usr/local/lib/python3.7/dist-packages/atari_py/atari_roms/journey_escape.bin\n",
            "copying kaboom.bin from HC ROMS/BY ALPHABET/H-R/Kaboom!.bin to /usr/local/lib/python3.7/dist-packages/atari_py/atari_roms/kaboom.bin\n",
            "copying kangaroo.bin from HC ROMS/BY ALPHABET/H-R/Kangaroo.bin to /usr/local/lib/python3.7/dist-packages/atari_py/atari_roms/kangaroo.bin\n",
            "copying kung_fu_master.bin from HC ROMS/BY ALPHABET/H-R/Kung-Fu Master.bin to /usr/local/lib/python3.7/dist-packages/atari_py/atari_roms/kung_fu_master.bin\n",
            "copying lost_luggage.bin from HC ROMS/BY ALPHABET/H-R/Lost Luggage [no opening scene].bin to /usr/local/lib/python3.7/dist-packages/atari_py/atari_roms/lost_luggage.bin\n",
            "copying ms_pacman.bin from HC ROMS/BY ALPHABET/H-R/Ms. Pac-Man.bin to /usr/local/lib/python3.7/dist-packages/atari_py/atari_roms/ms_pacman.bin\n",
            "copying name_this_game.bin from HC ROMS/BY ALPHABET/H-R/Name This Game.bin to /usr/local/lib/python3.7/dist-packages/atari_py/atari_roms/name_this_game.bin\n",
            "copying phoenix.bin from HC ROMS/BY ALPHABET/H-R/Phoenix.bin to /usr/local/lib/python3.7/dist-packages/atari_py/atari_roms/phoenix.bin\n",
            "copying pitfall.bin from HC ROMS/BY ALPHABET/H-R/Pitfall! - Pitfall Harry's Jungle Adventure.bin to /usr/local/lib/python3.7/dist-packages/atari_py/atari_roms/pitfall.bin\n",
            "copying pooyan.bin from HC ROMS/BY ALPHABET/H-R/Pooyan.bin to /usr/local/lib/python3.7/dist-packages/atari_py/atari_roms/pooyan.bin\n",
            "copying private_eye.bin from HC ROMS/BY ALPHABET/H-R/Private Eye.bin to /usr/local/lib/python3.7/dist-packages/atari_py/atari_roms/private_eye.bin\n",
            "copying qbert.bin from HC ROMS/BY ALPHABET/H-R/Q-bert.bin to /usr/local/lib/python3.7/dist-packages/atari_py/atari_roms/qbert.bin\n",
            "copying riverraid.bin from HC ROMS/BY ALPHABET/H-R/River Raid.bin to /usr/local/lib/python3.7/dist-packages/atari_py/atari_roms/riverraid.bin\n",
            "copying road_runner.bin from patched version of HC ROMS/BY ALPHABET/H-R/Road Runner.bin to /usr/local/lib/python3.7/dist-packages/atari_py/atari_roms/road_runner.bin\n",
            "copying robotank.bin from HC ROMS/BY ALPHABET/H-R/Robot Tank.bin to /usr/local/lib/python3.7/dist-packages/atari_py/atari_roms/robotank.bin\n",
            "copying seaquest.bin from HC ROMS/BY ALPHABET/S-Z/Seaquest.bin to /usr/local/lib/python3.7/dist-packages/atari_py/atari_roms/seaquest.bin\n",
            "copying skiing.bin from HC ROMS/BY ALPHABET/S-Z/Skiing.bin to /usr/local/lib/python3.7/dist-packages/atari_py/atari_roms/skiing.bin\n",
            "copying solaris.bin from HC ROMS/BY ALPHABET/S-Z/Solaris.bin to /usr/local/lib/python3.7/dist-packages/atari_py/atari_roms/solaris.bin\n",
            "copying space_invaders.bin from HC ROMS/BY ALPHABET/S-Z/Space Invaders.bin to /usr/local/lib/python3.7/dist-packages/atari_py/atari_roms/space_invaders.bin\n",
            "copying surround.bin from HC ROMS/BY ALPHABET/S-Z/Surround - Chase.bin to /usr/local/lib/python3.7/dist-packages/atari_py/atari_roms/surround.bin\n",
            "copying tennis.bin from HC ROMS/BY ALPHABET/S-Z/Tennis.bin to /usr/local/lib/python3.7/dist-packages/atari_py/atari_roms/tennis.bin\n",
            "copying trondead.bin from HC ROMS/BY ALPHABET/S-Z/TRON - Deadly Discs.bin to /usr/local/lib/python3.7/dist-packages/atari_py/atari_roms/trondead.bin\n",
            "copying tutankham.bin from HC ROMS/BY ALPHABET/S-Z/Tutankham.bin to /usr/local/lib/python3.7/dist-packages/atari_py/atari_roms/tutankham.bin\n",
            "copying venture.bin from HC ROMS/BY ALPHABET/S-Z/Venture.bin to /usr/local/lib/python3.7/dist-packages/atari_py/atari_roms/venture.bin\n",
            "copying pong.bin from HC ROMS/BY ALPHABET/S-Z/Video Olympics - Pong Sports.bin to /usr/local/lib/python3.7/dist-packages/atari_py/atari_roms/pong.bin\n",
            "copying video_pinball.bin from HC ROMS/BY ALPHABET/S-Z/Video Pinball - Arcade Pinball.bin to /usr/local/lib/python3.7/dist-packages/atari_py/atari_roms/video_pinball.bin\n",
            "copying wizard_of_wor.bin from HC ROMS/BY ALPHABET/S-Z/Wizard of Wor.bin to /usr/local/lib/python3.7/dist-packages/atari_py/atari_roms/wizard_of_wor.bin\n",
            "copying yars_revenge.bin from HC ROMS/BY ALPHABET/S-Z/Yars' Revenge.bin to /usr/local/lib/python3.7/dist-packages/atari_py/atari_roms/yars_revenge.bin\n",
            "copying zaxxon.bin from HC ROMS/BY ALPHABET/S-Z/Zaxxon.bin to /usr/local/lib/python3.7/dist-packages/atari_py/atari_roms/zaxxon.bin\n",
            "copying assault.bin from HC ROMS/NTSC VERSIONS OF PAL ORIGINALS/Assault (AKA Sky Alien) (1983) (Bomb - Onbase) (CA281).bin to /usr/local/lib/python3.7/dist-packages/atari_py/atari_roms/assault.bin\n",
            "copying asterix.bin from ROMS/Asterix (AKA Taz) (07-27-1983) (Atari, Jerome Domurat, Steve Woita) (CX2696) (Prototype).bin to /usr/local/lib/python3.7/dist-packages/atari_py/atari_roms/asterix.bin\n"
          ]
        }
      ],
      "source": [
        "import urllib.request\n",
        "urllib.request.urlretrieve('http://www.atarimania.com/roms/Roms.rar','Roms.rar')\n",
        "!pip install unrar\n",
        "!unrar x Roms.rar\n",
        "!mkdir rars\n",
        "!mv HC\\ ROMS.zip   rars\n",
        "!mv ROMS.zip  rars\n",
        "!python -m atari_py.import_roms rars"
      ]
    },
    {
      "cell_type": "code",
      "execution_count": null,
      "metadata": {
        "colab": {
          "base_uri": "https://localhost:8080/",
          "height": 305
        },
        "id": "JDsjDIiZY_20",
        "outputId": "96af950c-b426-4e07-e174-8431b82c20fd"
      },
      "outputs": [
        {
          "name": "stdout",
          "output_type": "stream",
          "text": [
            "Discrete(6)\n",
            "Box(0, 255, (210, 160, 3), uint8)\n"
          ]
        },
        {
          "data": {
            "image/png": "[encoded data removed]",
            "text/plain": [
              "<Figure size 432x288 with 1 Axes>"
            ]
          },
          "metadata": {
            "needs_background": "light"
          },
          "output_type": "display_data"
        }
      ],
      "source": [
        "env = gym.make('SpaceInvaders-v0') \n",
        "env.reset()\n",
        "plt.imshow(env.render('rgb_array'))\n",
        "print(env.action_space)\n",
        "print(env.observation_space)"
      ]
    },
    {
      "cell_type": "code",
      "execution_count": null,
      "metadata": {
        "colab": {
          "base_uri": "https://localhost:8080/",
          "height": 305
        },
        "id": "16UeItlQZBIi",
        "outputId": "ddfb7c0e-026b-4c36-9cb0-eaffdbcc773b"
      },
      "outputs": [
        {
          "name": "stdout",
          "output_type": "stream",
          "text": [
            "Discrete(18)\n",
            "Box(0, 255, (128,), uint8)\n"
          ]
        },
        {
          "data": {
            "image/png": "[encoded data removed]",
            "text/plain": [
              "<Figure size 432x288 with 1 Axes>"
            ]
          },
          "metadata": {
            "needs_background": "light"
          },
          "output_type": "display_data"
        }
      ],
      "source": [
        "import gym\n",
        "env = gym.make('Alien-ram-v0')\n",
        "env.reset()\n",
        "plt.imshow(env.render('rgb_array'))\n",
        "print(env.action_space)\n",
        "print(env.observation_space)"
      ]
    },
    {
      "cell_type": "code",
      "execution_count": null,
      "metadata": {
        "id": "6Ff41ilgat8N"
      },
      "outputs": [],
      "source": [
        "#Box2d\n",
        "\n",
        "It is a 2D physics engine. "
      ]
    },
    {
      "cell_type": "markdown",
      "metadata": {
        "id": "MGQiz8MKaul4"
      },
      "source": [
        "#Box2d\n",
        "\n",
        "It is a 2D physics engine. "
      ]
    },
    {
      "cell_type": "code",
      "execution_count": null,
      "metadata": {
        "colab": {
          "base_uri": "https://localhost:8080/"
        },
        "id": "X60AH8p2aw8U",
        "outputId": "18fde015-cb84-42c5-cb8c-75542aa701a4"
      },
      "outputs": [
        {
          "name": "stdout",
          "output_type": "stream",
          "text": [
            "Requirement already satisfied: gym[box2d] in /usr/local/lib/python3.7/dist-packages (0.17.3)\n",
            "Requirement already satisfied: scipy in /usr/local/lib/python3.7/dist-packages (from gym[box2d]) (1.4.1)\n",
            "Requirement already satisfied: numpy>=1.10.4 in /usr/local/lib/python3.7/dist-packages (from gym[box2d]) (1.21.5)\n",
            "Requirement already satisfied: pyglet<=1.5.0,>=1.4.0 in /usr/local/lib/python3.7/dist-packages (from gym[box2d]) (1.5.0)\n",
            "Requirement already satisfied: cloudpickle<1.7.0,>=1.2.0 in /usr/local/lib/python3.7/dist-packages (from gym[box2d]) (1.3.0)\n",
            "Collecting box2d-py~=2.3.5\n",
            "  Downloading box2d_py-2.3.8-cp37-cp37m-manylinux1_x86_64.whl (448 kB)\n",
            "\u001b[K     |████████████████████████████████| 448 kB 5.4 MB/s \n",
            "\u001b[?25hRequirement already satisfied: future in /usr/local/lib/python3.7/dist-packages (from pyglet<=1.5.0,>=1.4.0->gym[box2d]) (0.16.0)\n",
            "Installing collected packages: box2d-py\n",
            "Successfully installed box2d-py-2.3.8\n"
          ]
        }
      ],
      "source": [
        "pip install gym[box2d]"
      ]
    },
    {
      "cell_type": "code",
      "execution_count": null,
      "metadata": {
        "colab": {
          "base_uri": "https://localhost:8080/",
          "height": 305
        },
        "id": "qkds0lrPa0D1",
        "outputId": "47bec205-1749-4470-f92a-e908bfc95f21"
      },
      "outputs": [
        {
          "name": "stdout",
          "output_type": "stream",
          "text": [
            "Discrete(4)\n",
            "Box(-inf, inf, (8,), float32)\n"
          ]
        },
        {
          "data": {
            "image/png": "[encoded data removed]",
            "text/plain": [
              "<Figure size 432x288 with 1 Axes>"
            ]
          },
          "metadata": {
            "needs_background": "light"
          },
          "output_type": "display_data"
        }
      ],
      "source": [
        "import gym\n",
        "env = gym.make('LunarLander-v2')\n",
        "env.reset()\n",
        "plt.imshow(env.render('rgb_array'))\n",
        "print(env.action_space)\n",
        "print(env.observation_space)"
      ]
    },
    {
      "cell_type": "code",
      "execution_count": null,
      "metadata": {
        "colab": {
          "base_uri": "https://localhost:8080/",
          "height": 305
        },
        "id": "MiAFSlm8a3np",
        "outputId": "78c3e2da-d5c8-48c3-dc1b-14e6ba42cb49"
      },
      "outputs": [
        {
          "name": "stdout",
          "output_type": "stream",
          "text": [
            "Box(-1.0, 1.0, (4,), float32)\n",
            "Box(-inf, inf, (24,), float32)\n"
          ]
        },
        {
          "data": {
            "image/png": "[encoded data removed]",
            "text/plain": [
              "<Figure size 432x288 with 1 Axes>"
            ]
          },
          "metadata": {
            "needs_background": "light"
          },
          "output_type": "display_data"
        }
      ],
      "source": [
        "import gym\n",
        "env = gym.make('BipedalWalker-v3')\n",
        "env.reset()\n",
        "plt.imshow(env.render('rgb_array'))\n",
        "print(env.action_space)\n",
        "print(env.observation_space)"
      ]
    },
    {
      "cell_type": "code",
      "execution_count": null,
      "metadata": {
        "colab": {
          "base_uri": "https://localhost:8080/"
        },
        "id": "lv0dudPJZDZb",
        "outputId": "f888a293-db51-4cca-e08a-e14722776054"
      },
      "outputs": [
        {
          "name": "stdout",
          "output_type": "stream",
          "text": [
            "action 0\n",
            "[ 0.02781438 -0.23189402  0.01890407  0.31277493] 1.0 False {}\n",
            "action 0\n",
            "[ 0.0231765  -0.42728011  0.02515956  0.61135916] 1.0 False {}\n",
            "action 1\n",
            "[ 0.0146309  -0.23251867  0.03738675  0.3267056 ] 1.0 False {}\n",
            "action 0\n",
            "[ 0.00998053 -0.42815241  0.04392086  0.63094029] 1.0 False {}\n",
            "action 1\n",
            "[ 0.00141748 -0.23366992  0.05653967  0.35240647] 1.0 False {}\n",
            "action 0\n",
            "[-0.00325592 -0.42954839  0.06358779  0.66236847] 1.0 False {}\n",
            "action 0\n",
            "[-0.01184689 -0.62549474  0.07683516  0.97437619] 1.0 False {}\n",
            "action 1\n",
            "[-0.02435678 -0.43148293  0.09632269  0.7067844 ] 1.0 False {}\n",
            "action 1\n",
            "[-0.03298644 -0.23781806  0.11045838  0.44590877] 1.0 False {}\n",
            "action 1\n",
            "[-0.0377428  -0.04441796  0.11937655  0.18998536] 1.0 False {}\n"
          ]
        }
      ],
      "source": [
        "env = gym.make('CartPole-v0')\n",
        "env.reset()\n",
        "for _ in range(10):\n",
        "    action = env.action_space.sample()\n",
        "    print('action', action)\n",
        "    observation, reward, done, info = env.step(action)\n",
        "    print(observation, reward, done, info)\n",
        "    if done:\n",
        "        break\n",
        "env.close()"
      ]
    },
    {
      "cell_type": "code",
      "execution_count": null,
      "metadata": {
        "colab": {
          "base_uri": "https://localhost:8080/",
          "height": 305
        },
        "id": "zjE8GmVWZFCO",
        "outputId": "01fba7bb-03b4-4a2c-859d-90fa347e8f1f"
      },
      "outputs": [
        {
          "data": {
            "image/png": "[encoded data removed]",
            "text/plain": [
              "<Figure size 432x288 with 1 Axes>"
            ]
          },
          "metadata": {
            "needs_background": "light"
          },
          "output_type": "display_data"
        },
        {
          "name": "stdout",
          "output_type": "stream",
          "text": [
            "Observation space: Box(0, 255, (210, 160, 3), uint8)\n",
            "Action space: Discrete(4)\n"
          ]
        }
      ],
      "source": [
        "env = gym.make('Breakout-v0')\n",
        "\n",
        "plt.imshow(env.render('rgb_array'))\n",
        "plt.show()\n",
        "print(\"Observation space:\", env.observation_space)\n",
        "print(\"Action space:\", env.action_space)"
      ]
    },
    {
      "cell_type": "code",
      "execution_count": null,
      "metadata": {
        "colab": {
          "base_uri": "https://localhost:8080/"
        },
        "id": "MNEpHY0AZHFu",
        "outputId": "e640dd25-6144-4842-d8a6-6dccf4996c32"
      },
      "outputs": [
        {
          "name": "stdout",
          "output_type": "stream",
          "text": [
            "Observation space: Discrete(500)\n",
            "Action space: Discrete(6)\n"
          ]
        }
      ],
      "source": [
        "env = gym.make('Taxi-v3')\n",
        "env.reset()\n",
        "print(\"Observation space:\", env.observation_space)\n",
        "print(\"Action space:\", env.action_space)"
      ]
    },
    {
      "cell_type": "code",
      "execution_count": null,
      "metadata": {
        "id": "PZUkbmvcZIqV"
      },
      "outputs": [],
      "source": []
    }
  ],
  "metadata": {
    "colab": {
      "collapsed_sections": [],
      "name": "spring22_gym_openAI_demo.ipynb",
      "provenance": []
    },
    "kernelspec": {
      "display_name": "Python 3",
      "name": "python3"
    },
    "language_info": {
      "name": "python"
    }
  },
  "nbformat": 4,
  "nbformat_minor": 0
}
